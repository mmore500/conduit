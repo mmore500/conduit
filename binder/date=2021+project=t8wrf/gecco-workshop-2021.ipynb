{
 "cells": [
  {
   "cell_type": "code",
   "execution_count": 1,
   "id": "97e8237c",
   "metadata": {},
   "outputs": [],
   "source": [
    "import matplotlib\n",
    "import matplotlib.pyplot as plt\n",
    "from nbmetalog import nbmetalog as nbm\n",
    "import numpy as np\n",
    "import pandas as pd\n",
    "import seaborn as sns\n",
    "import teeplot as tp\n",
    "\n",
    "matplotlib.rcParams['pdf.fonttype'] = 42\n",
    "matplotlib.rcParams['ps.fonttype'] = 42\n",
    "\n",
    "# set to True if you want all graphs saved as PDFs\n",
    "save_graphs = True"
   ]
  },
  {
   "cell_type": "code",
   "execution_count": 2,
   "id": "3e143594",
   "metadata": {},
   "outputs": [
    {
     "name": "stdout",
     "output_type": "stream",
     "text": [
      "context: ci\n",
      "hostname: f6d2aba20899\n",
      "interpreter: 3.6.5 (default, Apr  1 2018, 05:46:30)  [GCC 7.3.0]\n",
      "nbcellexec: 2\n",
      "nbname: gecco-workshop-2021\n",
      "nbpath: /opt/conduit/binder/date=2021+project=t8wrf/gecco-workshop-2021.ipynb\n",
      "revision: null\n",
      "session: 04e25490-95f1-4d17-aa14-e2c88ea60389\n",
      "timestamp: 2021-09-05T01:24:35Z00:00\n",
      "\n",
      "\n",
      "IPython==7.16.1\n",
      "keyname==0.4.1\n",
      "yaml==5.4.1\n",
      "matplotlib==3.3.2\n",
      "nbmetalog==0.2.1\n",
      "numpy==1.19.5\n",
      "pandas==1.1.2\n",
      "seaborn==0.11.0\n",
      "teeplot==0.2.0\n",
      "re==2.2.1\n",
      "ipython_genutils==0.2.0\n",
      "logging==0.5.1.2\n",
      "zmq==22.2.1\n",
      "json==2.0.9\n",
      "six==1.15.0\n",
      "ipykernel==5.5.3\n"
     ]
    }
   ],
   "source": [
    "nbm.print_metadata()"
   ]
  },
  {
   "cell_type": "markdown",
   "id": "3910fa6a",
   "metadata": {},
   "source": [
    "## Import data"
   ]
  },
  {
   "cell_type": "code",
   "execution_count": 3,
   "id": "5b113fab",
   "metadata": {},
   "outputs": [
    {
     "name": "stdout",
     "output_type": "stream",
     "text": [
      "a: ds_thread\n",
      "digest: 8b17cded7bc5569786a016fe6535a04b1bbdf0dfd9b95c1c07de3aaaea073853\n",
      "num cols: 26\n",
      "num cols all na: 0\n",
      "num cols any na: 12\n",
      "num na: 2400\n",
      "num rows: 450\n",
      "num rows all na: 0\n",
      "num rows any na: 200\n",
      "size: 261K\n",
      "\n"
     ]
    }
   ],
   "source": [
    "ds_thread = pd.read_csv(\"https://osf.io/t8wrf/download\")\n",
    "nbm.print_dataframe_summary(*eval(nbm.nvp_expr(\n",
    "    'ds_thread'\n",
    ")))"
   ]
  },
  {
   "cell_type": "code",
   "execution_count": 4,
   "id": "6d261e88",
   "metadata": {},
   "outputs": [
    {
     "name": "stdout",
     "output_type": "stream",
     "text": [
      "a: ds_proc\n",
      "digest: 2f3020b3f4d693699171b47fc9520f05b2c39b7776b309ad6075b250caa0b6bc\n",
      "num cols: 26\n",
      "num cols all na: 0\n",
      "num cols any na: 12\n",
      "num na: 1920\n",
      "num rows: 360\n",
      "num rows all na: 0\n",
      "num rows any na: 160\n",
      "size: 250K\n",
      "\n"
     ]
    }
   ],
   "source": [
    "ds_proc = pd.read_csv(\"https://osf.io/dkj9n/download\")\n",
    "nbm.print_dataframe_summary(*eval(nbm.nvp_expr(\n",
    "    'ds_proc'\n",
    ")))"
   ]
  },
  {
   "cell_type": "code",
   "execution_count": 5,
   "id": "d478ff6c",
   "metadata": {},
   "outputs": [
    {
     "name": "stdout",
     "output_type": "stream",
     "text": [
      "a: ds_control\n",
      "digest: d5802ca15d6ca3c64a3bc1171b89f56f2060b6924b3b535d6586c9f096f22ab7\n",
      "num cols: 26\n",
      "num cols all na: 12\n",
      "num cols any na: 12\n",
      "num na: 300\n",
      "num rows: 25\n",
      "num rows all na: 0\n",
      "num rows any na: 25\n",
      "size: 14K\n",
      "\n"
     ]
    }
   ],
   "source": [
    "ds_control = pd.read_csv(\"https://osf.io/3jz4w/download\")\n",
    "nbm.print_dataframe_summary(*eval(nbm.nvp_expr(\n",
    "    'ds_control'\n",
    ")))"
   ]
  },
  {
   "cell_type": "markdown",
   "id": "8cb89e95",
   "metadata": {},
   "source": [
    "### Concatenate data"
   ]
  },
  {
   "cell_type": "code",
   "execution_count": 6,
   "id": "a68329c8",
   "metadata": {},
   "outputs": [
    {
     "data": {
      "text/html": [
       "<div>\n",
       "<style scoped>\n",
       "    .dataframe tbody tr th:only-of-type {\n",
       "        vertical-align: middle;\n",
       "    }\n",
       "\n",
       "    .dataframe tbody tr th {\n",
       "        vertical-align: top;\n",
       "    }\n",
       "\n",
       "    .dataframe thead th {\n",
       "        text-align: right;\n",
       "    }\n",
       "</style>\n",
       "<table border=\"1\" class=\"dataframe\">\n",
       "  <thead>\n",
       "    <tr style=\"text-align: right;\">\n",
       "      <th></th>\n",
       "      <th>updates total</th>\n",
       "      <th>updates min</th>\n",
       "      <th>updates max</th>\n",
       "      <th>updates std</th>\n",
       "      <th>sent total</th>\n",
       "      <th>sent min</th>\n",
       "      <th>sent max</th>\n",
       "      <th>sent std</th>\n",
       "      <th>recieved total</th>\n",
       "      <th>received min</th>\n",
       "      <th>...</th>\n",
       "      <th>nprocs</th>\n",
       "      <th>nthreads</th>\n",
       "      <th>replicate</th>\n",
       "      <th>seconds</th>\n",
       "      <th>asynchronicity mode</th>\n",
       "      <th>hostname</th>\n",
       "      <th>source sha</th>\n",
       "      <th>container tag</th>\n",
       "      <th>container digest</th>\n",
       "      <th>executable</th>\n",
       "    </tr>\n",
       "  </thead>\n",
       "  <tbody>\n",
       "    <tr>\n",
       "      <th>0</th>\n",
       "      <td>109443</td>\n",
       "      <td>109443</td>\n",
       "      <td>109443</td>\n",
       "      <td>0.000000</td>\n",
       "      <td>NaN</td>\n",
       "      <td>NaN</td>\n",
       "      <td>NaN</td>\n",
       "      <td>NaN</td>\n",
       "      <td>NaN</td>\n",
       "      <td>NaN</td>\n",
       "      <td>...</td>\n",
       "      <td>1</td>\n",
       "      <td>1</td>\n",
       "      <td>0</td>\n",
       "      <td>1800</td>\n",
       "      <td>4</td>\n",
       "      <td>vim-200</td>\n",
       "      <td>960f0a0686df91bd8e86dd788ccc266ad7eb942c</td>\n",
       "      <td>sha-128c94d</td>\n",
       "      <td>sha256:9ed9bae2fb9230c4547ec0768d5877930ecc10a...</td>\n",
       "      <td>dishtiny</td>\n",
       "    </tr>\n",
       "    <tr>\n",
       "      <th>1</th>\n",
       "      <td>440970</td>\n",
       "      <td>109682</td>\n",
       "      <td>111142</td>\n",
       "      <td>558.666493</td>\n",
       "      <td>NaN</td>\n",
       "      <td>NaN</td>\n",
       "      <td>NaN</td>\n",
       "      <td>NaN</td>\n",
       "      <td>NaN</td>\n",
       "      <td>NaN</td>\n",
       "      <td>...</td>\n",
       "      <td>4</td>\n",
       "      <td>1</td>\n",
       "      <td>0</td>\n",
       "      <td>1800</td>\n",
       "      <td>4</td>\n",
       "      <td>vim-002</td>\n",
       "      <td>960f0a0686df91bd8e86dd788ccc266ad7eb942c</td>\n",
       "      <td>sha-128c94d</td>\n",
       "      <td>sha256:9ed9bae2fb9230c4547ec0768d5877930ecc10a...</td>\n",
       "      <td>dishtiny</td>\n",
       "    </tr>\n",
       "    <tr>\n",
       "      <th>2</th>\n",
       "      <td>1266452</td>\n",
       "      <td>76874</td>\n",
       "      <td>81514</td>\n",
       "      <td>1460.918226</td>\n",
       "      <td>NaN</td>\n",
       "      <td>NaN</td>\n",
       "      <td>NaN</td>\n",
       "      <td>NaN</td>\n",
       "      <td>NaN</td>\n",
       "      <td>NaN</td>\n",
       "      <td>...</td>\n",
       "      <td>16</td>\n",
       "      <td>1</td>\n",
       "      <td>0</td>\n",
       "      <td>1800</td>\n",
       "      <td>4</td>\n",
       "      <td>vim-002</td>\n",
       "      <td>960f0a0686df91bd8e86dd788ccc266ad7eb942c</td>\n",
       "      <td>sha-128c94d</td>\n",
       "      <td>sha256:9ed9bae2fb9230c4547ec0768d5877930ecc10a...</td>\n",
       "      <td>dishtiny</td>\n",
       "    </tr>\n",
       "    <tr>\n",
       "      <th>3</th>\n",
       "      <td>2366016</td>\n",
       "      <td>71843</td>\n",
       "      <td>75490</td>\n",
       "      <td>1140.984553</td>\n",
       "      <td>NaN</td>\n",
       "      <td>NaN</td>\n",
       "      <td>NaN</td>\n",
       "      <td>NaN</td>\n",
       "      <td>NaN</td>\n",
       "      <td>NaN</td>\n",
       "      <td>...</td>\n",
       "      <td>32</td>\n",
       "      <td>1</td>\n",
       "      <td>0</td>\n",
       "      <td>1800</td>\n",
       "      <td>4</td>\n",
       "      <td>vim-002</td>\n",
       "      <td>960f0a0686df91bd8e86dd788ccc266ad7eb942c</td>\n",
       "      <td>sha-128c94d</td>\n",
       "      <td>sha256:9ed9bae2fb9230c4547ec0768d5877930ecc10a...</td>\n",
       "      <td>dishtiny</td>\n",
       "    </tr>\n",
       "    <tr>\n",
       "      <th>4</th>\n",
       "      <td>4279242</td>\n",
       "      <td>62216</td>\n",
       "      <td>74477</td>\n",
       "      <td>2697.906192</td>\n",
       "      <td>NaN</td>\n",
       "      <td>NaN</td>\n",
       "      <td>NaN</td>\n",
       "      <td>NaN</td>\n",
       "      <td>NaN</td>\n",
       "      <td>NaN</td>\n",
       "      <td>...</td>\n",
       "      <td>64</td>\n",
       "      <td>1</td>\n",
       "      <td>0</td>\n",
       "      <td>1800</td>\n",
       "      <td>4</td>\n",
       "      <td>vim-002</td>\n",
       "      <td>960f0a0686df91bd8e86dd788ccc266ad7eb942c</td>\n",
       "      <td>sha-128c94d</td>\n",
       "      <td>sha256:9ed9bae2fb9230c4547ec0768d5877930ecc10a...</td>\n",
       "      <td>dishtiny</td>\n",
       "    </tr>\n",
       "    <tr>\n",
       "      <th>...</th>\n",
       "      <td>...</td>\n",
       "      <td>...</td>\n",
       "      <td>...</td>\n",
       "      <td>...</td>\n",
       "      <td>...</td>\n",
       "      <td>...</td>\n",
       "      <td>...</td>\n",
       "      <td>...</td>\n",
       "      <td>...</td>\n",
       "      <td>...</td>\n",
       "      <td>...</td>\n",
       "      <td>...</td>\n",
       "      <td>...</td>\n",
       "      <td>...</td>\n",
       "      <td>...</td>\n",
       "      <td>...</td>\n",
       "      <td>...</td>\n",
       "      <td>...</td>\n",
       "      <td>...</td>\n",
       "      <td>...</td>\n",
       "      <td>...</td>\n",
       "    </tr>\n",
       "    <tr>\n",
       "      <th>355</th>\n",
       "      <td>32550</td>\n",
       "      <td>32550</td>\n",
       "      <td>32550</td>\n",
       "      <td>0.000000</td>\n",
       "      <td>263655000.0</td>\n",
       "      <td>263655000.0</td>\n",
       "      <td>263655000.0</td>\n",
       "      <td>0.0</td>\n",
       "      <td>263650950.0</td>\n",
       "      <td>263650950.0</td>\n",
       "      <td>...</td>\n",
       "      <td>1</td>\n",
       "      <td>1</td>\n",
       "      <td>5</td>\n",
       "      <td>5</td>\n",
       "      <td>4</td>\n",
       "      <td>lac-[039-043,209,339,353-356,358-360,364,375-3...</td>\n",
       "      <td>d921d8db2a15ce62359b3bdbcb93089d78fc87b3</td>\n",
       "      <td>sha-5dcf5ca</td>\n",
       "      <td>sha256:9a11d6e77b1f28db2671225a1bc3dfc09f640aa...</td>\n",
       "      <td>channel_selection</td>\n",
       "    </tr>\n",
       "    <tr>\n",
       "      <th>356</th>\n",
       "      <td>33123</td>\n",
       "      <td>33123</td>\n",
       "      <td>33123</td>\n",
       "      <td>0.000000</td>\n",
       "      <td>268296300.0</td>\n",
       "      <td>268296300.0</td>\n",
       "      <td>268296300.0</td>\n",
       "      <td>0.0</td>\n",
       "      <td>268292250.0</td>\n",
       "      <td>268292250.0</td>\n",
       "      <td>...</td>\n",
       "      <td>1</td>\n",
       "      <td>1</td>\n",
       "      <td>6</td>\n",
       "      <td>5</td>\n",
       "      <td>4</td>\n",
       "      <td>lac-[039-043,209,339,353-356,358-360,364,375-3...</td>\n",
       "      <td>d921d8db2a15ce62359b3bdbcb93089d78fc87b3</td>\n",
       "      <td>sha-5dcf5ca</td>\n",
       "      <td>sha256:9a11d6e77b1f28db2671225a1bc3dfc09f640aa...</td>\n",
       "      <td>channel_selection</td>\n",
       "    </tr>\n",
       "    <tr>\n",
       "      <th>357</th>\n",
       "      <td>34977</td>\n",
       "      <td>34977</td>\n",
       "      <td>34977</td>\n",
       "      <td>0.000000</td>\n",
       "      <td>283313700.0</td>\n",
       "      <td>283313700.0</td>\n",
       "      <td>283313700.0</td>\n",
       "      <td>0.0</td>\n",
       "      <td>283309650.0</td>\n",
       "      <td>283309650.0</td>\n",
       "      <td>...</td>\n",
       "      <td>1</td>\n",
       "      <td>1</td>\n",
       "      <td>7</td>\n",
       "      <td>5</td>\n",
       "      <td>4</td>\n",
       "      <td>lac-[039-043,209,339,353-356,358-360,364,375-3...</td>\n",
       "      <td>d921d8db2a15ce62359b3bdbcb93089d78fc87b3</td>\n",
       "      <td>sha-5dcf5ca</td>\n",
       "      <td>sha256:9a11d6e77b1f28db2671225a1bc3dfc09f640aa...</td>\n",
       "      <td>channel_selection</td>\n",
       "    </tr>\n",
       "    <tr>\n",
       "      <th>358</th>\n",
       "      <td>31182</td>\n",
       "      <td>31182</td>\n",
       "      <td>31182</td>\n",
       "      <td>0.000000</td>\n",
       "      <td>252574200.0</td>\n",
       "      <td>252574200.0</td>\n",
       "      <td>252574200.0</td>\n",
       "      <td>0.0</td>\n",
       "      <td>252570150.0</td>\n",
       "      <td>252570150.0</td>\n",
       "      <td>...</td>\n",
       "      <td>1</td>\n",
       "      <td>1</td>\n",
       "      <td>8</td>\n",
       "      <td>5</td>\n",
       "      <td>4</td>\n",
       "      <td>lac-[039-043,209,339,353-356,358-360,364,375-3...</td>\n",
       "      <td>d921d8db2a15ce62359b3bdbcb93089d78fc87b3</td>\n",
       "      <td>sha-5dcf5ca</td>\n",
       "      <td>sha256:9a11d6e77b1f28db2671225a1bc3dfc09f640aa...</td>\n",
       "      <td>channel_selection</td>\n",
       "    </tr>\n",
       "    <tr>\n",
       "      <th>359</th>\n",
       "      <td>29150</td>\n",
       "      <td>29150</td>\n",
       "      <td>29150</td>\n",
       "      <td>0.000000</td>\n",
       "      <td>236115000.0</td>\n",
       "      <td>236115000.0</td>\n",
       "      <td>236115000.0</td>\n",
       "      <td>0.0</td>\n",
       "      <td>236110950.0</td>\n",
       "      <td>236110950.0</td>\n",
       "      <td>...</td>\n",
       "      <td>1</td>\n",
       "      <td>1</td>\n",
       "      <td>9</td>\n",
       "      <td>5</td>\n",
       "      <td>4</td>\n",
       "      <td>lac-[039-043,209,339,353-356,358-360,364,375-3...</td>\n",
       "      <td>d921d8db2a15ce62359b3bdbcb93089d78fc87b3</td>\n",
       "      <td>sha-5dcf5ca</td>\n",
       "      <td>sha256:9a11d6e77b1f28db2671225a1bc3dfc09f640aa...</td>\n",
       "      <td>channel_selection</td>\n",
       "    </tr>\n",
       "  </tbody>\n",
       "</table>\n",
       "<p>835 rows × 26 columns</p>\n",
       "</div>"
      ],
      "text/plain": [
       "     updates total  updates min  updates max  updates std   sent total  \\\n",
       "0           109443       109443       109443     0.000000          NaN   \n",
       "1           440970       109682       111142   558.666493          NaN   \n",
       "2          1266452        76874        81514  1460.918226          NaN   \n",
       "3          2366016        71843        75490  1140.984553          NaN   \n",
       "4          4279242        62216        74477  2697.906192          NaN   \n",
       "..             ...          ...          ...          ...          ...   \n",
       "355          32550        32550        32550     0.000000  263655000.0   \n",
       "356          33123        33123        33123     0.000000  268296300.0   \n",
       "357          34977        34977        34977     0.000000  283313700.0   \n",
       "358          31182        31182        31182     0.000000  252574200.0   \n",
       "359          29150        29150        29150     0.000000  236115000.0   \n",
       "\n",
       "        sent min     sent max  sent std  recieved total  received min  ...  \\\n",
       "0            NaN          NaN       NaN             NaN           NaN  ...   \n",
       "1            NaN          NaN       NaN             NaN           NaN  ...   \n",
       "2            NaN          NaN       NaN             NaN           NaN  ...   \n",
       "3            NaN          NaN       NaN             NaN           NaN  ...   \n",
       "4            NaN          NaN       NaN             NaN           NaN  ...   \n",
       "..           ...          ...       ...             ...           ...  ...   \n",
       "355  263655000.0  263655000.0       0.0     263650950.0   263650950.0  ...   \n",
       "356  268296300.0  268296300.0       0.0     268292250.0   268292250.0  ...   \n",
       "357  283313700.0  283313700.0       0.0     283309650.0   283309650.0  ...   \n",
       "358  252574200.0  252574200.0       0.0     252570150.0   252570150.0  ...   \n",
       "359  236115000.0  236115000.0       0.0     236110950.0   236110950.0  ...   \n",
       "\n",
       "     nprocs  nthreads  replicate  seconds  asynchronicity mode  \\\n",
       "0         1         1          0     1800                    4   \n",
       "1         4         1          0     1800                    4   \n",
       "2        16         1          0     1800                    4   \n",
       "3        32         1          0     1800                    4   \n",
       "4        64         1          0     1800                    4   \n",
       "..      ...       ...        ...      ...                  ...   \n",
       "355       1         1          5        5                    4   \n",
       "356       1         1          6        5                    4   \n",
       "357       1         1          7        5                    4   \n",
       "358       1         1          8        5                    4   \n",
       "359       1         1          9        5                    4   \n",
       "\n",
       "                                              hostname  \\\n",
       "0                                              vim-200   \n",
       "1                                              vim-002   \n",
       "2                                              vim-002   \n",
       "3                                              vim-002   \n",
       "4                                              vim-002   \n",
       "..                                                 ...   \n",
       "355  lac-[039-043,209,339,353-356,358-360,364,375-3...   \n",
       "356  lac-[039-043,209,339,353-356,358-360,364,375-3...   \n",
       "357  lac-[039-043,209,339,353-356,358-360,364,375-3...   \n",
       "358  lac-[039-043,209,339,353-356,358-360,364,375-3...   \n",
       "359  lac-[039-043,209,339,353-356,358-360,364,375-3...   \n",
       "\n",
       "                                   source sha  container tag  \\\n",
       "0    960f0a0686df91bd8e86dd788ccc266ad7eb942c    sha-128c94d   \n",
       "1    960f0a0686df91bd8e86dd788ccc266ad7eb942c    sha-128c94d   \n",
       "2    960f0a0686df91bd8e86dd788ccc266ad7eb942c    sha-128c94d   \n",
       "3    960f0a0686df91bd8e86dd788ccc266ad7eb942c    sha-128c94d   \n",
       "4    960f0a0686df91bd8e86dd788ccc266ad7eb942c    sha-128c94d   \n",
       "..                                        ...            ...   \n",
       "355  d921d8db2a15ce62359b3bdbcb93089d78fc87b3    sha-5dcf5ca   \n",
       "356  d921d8db2a15ce62359b3bdbcb93089d78fc87b3    sha-5dcf5ca   \n",
       "357  d921d8db2a15ce62359b3bdbcb93089d78fc87b3    sha-5dcf5ca   \n",
       "358  d921d8db2a15ce62359b3bdbcb93089d78fc87b3    sha-5dcf5ca   \n",
       "359  d921d8db2a15ce62359b3bdbcb93089d78fc87b3    sha-5dcf5ca   \n",
       "\n",
       "                                      container digest         executable  \n",
       "0    sha256:9ed9bae2fb9230c4547ec0768d5877930ecc10a...           dishtiny  \n",
       "1    sha256:9ed9bae2fb9230c4547ec0768d5877930ecc10a...           dishtiny  \n",
       "2    sha256:9ed9bae2fb9230c4547ec0768d5877930ecc10a...           dishtiny  \n",
       "3    sha256:9ed9bae2fb9230c4547ec0768d5877930ecc10a...           dishtiny  \n",
       "4    sha256:9ed9bae2fb9230c4547ec0768d5877930ecc10a...           dishtiny  \n",
       "..                                                 ...                ...  \n",
       "355  sha256:9a11d6e77b1f28db2671225a1bc3dfc09f640aa...  channel_selection  \n",
       "356  sha256:9a11d6e77b1f28db2671225a1bc3dfc09f640aa...  channel_selection  \n",
       "357  sha256:9a11d6e77b1f28db2671225a1bc3dfc09f640aa...  channel_selection  \n",
       "358  sha256:9a11d6e77b1f28db2671225a1bc3dfc09f640aa...  channel_selection  \n",
       "359  sha256:9a11d6e77b1f28db2671225a1bc3dfc09f640aa...  channel_selection  \n",
       "\n",
       "[835 rows x 26 columns]"
      ]
     },
     "execution_count": 6,
     "metadata": {},
     "output_type": "execute_result"
    }
   ],
   "source": [
    "pd.concat([ds_control, ds_thread, ds_proc])"
   ]
  },
  {
   "cell_type": "markdown",
   "id": "a8a580da",
   "metadata": {},
   "source": [
    "# Graphing"
   ]
  },
  {
   "cell_type": "markdown",
   "id": "13610a36",
   "metadata": {},
   "source": [
    "### Determine number of updates per CPU (threads * processes)"
   ]
  },
  {
   "cell_type": "code",
   "execution_count": 7,
   "id": "15dc5fe2",
   "metadata": {},
   "outputs": [],
   "source": [
    "ds_thread[\"ncpus\"] = ds_thread[\"nthreads\"] * ds_thread[\"nprocs\"]\n",
    "ds_thread[\"conflicts per cpu\"] = ds_thread[\"conflicts total\"] / ds_thread[\"ncpus\"]\n",
    "ds_thread[\"updates per cpu-second\"] = ds_thread[\"updates total\"] / ds_thread[\"ncpus\"] / ds_thread[\"seconds\"]"
   ]
  },
  {
   "cell_type": "code",
   "execution_count": 8,
   "id": "cf7e87c2",
   "metadata": {},
   "outputs": [],
   "source": [
    "ds_proc[\"ncpus\"] = ds_proc[\"nthreads\"] * ds_proc[\"nprocs\"]\n",
    "ds_proc[\"conflicts per cpu\"] = ds_proc[\"conflicts total\"] / ds_proc[\"ncpus\"]\n",
    "ds_proc[\"updates per cpu-second\"] = ds_proc[\"updates total\"] / ds_proc[\"ncpus\"] / ds_proc[\"seconds\"]"
   ]
  },
  {
   "cell_type": "code",
   "execution_count": 9,
   "id": "98db8436",
   "metadata": {},
   "outputs": [],
   "source": [
    "ds_control[\"ncpus\"] = ds_control[\"nthreads\"] * ds_control[\"nprocs\"]\n",
    "ds_control[\"updates per cpu-second\"] = ds_control[\"updates total\"] / ds_control[\"ncpus\"] / ds_control[\"seconds\"]"
   ]
  },
  {
   "cell_type": "markdown",
   "id": "b59de4ab",
   "metadata": {},
   "source": [
    "## Graph coloring problem"
   ]
  },
  {
   "cell_type": "markdown",
   "id": "592b5ea1",
   "metadata": {},
   "source": [
    "#### This problem is described in [_WLAN channel selection without communication_](https://dl.acm.org/doi/abs/10.1016/j.comnet.2011.12.015). In basic terms it consists of assigning a separate color to nodes in a graph, so that each node has a different color."
   ]
  },
  {
   "cell_type": "markdown",
   "id": "38c8ee1f",
   "metadata": {},
   "source": [
    "We first select only the data corresponding to the multithread graph coloring runs."
   ]
  },
  {
   "cell_type": "code",
   "execution_count": 10,
   "id": "745b4e0c",
   "metadata": {},
   "outputs": [],
   "source": [
    "filtered_threads = ds_thread[\n",
    "    (ds_thread[\"executable\"]==\"channel_selection\") &\n",
    "    (ds_thread[\"nprocs\"] == 1)\n",
    "]\n"
   ]
  },
  {
   "cell_type": "markdown",
   "id": "74238b04",
   "metadata": {},
   "source": [
    "Next, we graph it as a bar plot."
   ]
  },
  {
   "cell_type": "code",
   "execution_count": 11,
   "id": "11e95e39",
   "metadata": {},
   "outputs": [
    {
     "data": {
      "image/png": "[encoded data removed]",
      "text/plain": [
       "<Figure size 432x288 with 1 Axes>"
      ]
     },
     "metadata": {
      "needs_background": "light"
     },
     "output_type": "display_data"
    }
   ],
   "source": [
    "g = sns.barplot(x=\"ncpus\", y=\"updates per cpu-second\", hue=\"asynchronicity mode\", data=filtered_threads)\n",
    "\n",
    "g.set_title('Multithread Graph Coloring')\n",
    "\n",
    "if save_graphs:\n",
    "    plt.savefig('multithread-graph-coloring.pdf', bbox_inches='tight')"
   ]
  },
  {
   "cell_type": "markdown",
   "id": "96cbba04",
   "metadata": {},
   "source": [
    " Now, we proceed to graph the number of conflicts per CPU. They are inversely proportional to the solution quality. Note the y axis is logarithmic."
   ]
  },
  {
   "cell_type": "code",
   "execution_count": 12,
   "id": "aeaf5e0d",
   "metadata": {},
   "outputs": [
    {
     "data": {
      "image/png": "[encoded data removed]",
      "text/plain": [
       "<Figure size 432x288 with 1 Axes>"
      ]
     },
     "metadata": {
      "needs_background": "light"
     },
     "output_type": "display_data"
    }
   ],
   "source": [
    "g = sns.barplot(x=\"ncpus\", y=\"conflicts per cpu\", hue=\"asynchronicity mode\", data=filtered_threads)\n",
    "\n",
    "g.set_title('Multithread Graph Coloring Solution Quality')\n",
    "g.set_yscale('log')\n",
    "\n",
    "if save_graphs:\n",
    "    plt.savefig('multithread-graph-coloring-solution-quality.pdf', bbox_inches='tight')"
   ]
  },
  {
   "cell_type": "markdown",
   "id": "9eff91eb",
   "metadata": {},
   "source": [
    "We now select only the multiprocess graph coloring data..."
   ]
  },
  {
   "cell_type": "code",
   "execution_count": 13,
   "id": "69a74c08",
   "metadata": {},
   "outputs": [],
   "source": [
    "filtered_procs = ds_proc[\n",
    "    (ds_proc[\"executable\"]==\"channel_selection\") &\n",
    "    (ds_proc[\"nthreads\"] == 1)\n",
    "]"
   ]
  },
  {
   "cell_type": "markdown",
   "id": "9caf99c2",
   "metadata": {},
   "source": [
    "...and graph it the same way."
   ]
  },
  {
   "cell_type": "code",
   "execution_count": 14,
   "id": "ba73a6d7",
   "metadata": {},
   "outputs": [
    {
     "data": {
      "image/png": "[encoded data removed]",
      "text/plain": [
       "<Figure size 432x288 with 1 Axes>"
      ]
     },
     "metadata": {
      "needs_background": "light"
     },
     "output_type": "display_data"
    }
   ],
   "source": [
    "g = sns.barplot(x=\"ncpus\", y=\"updates per cpu-second\", hue=\"asynchronicity mode\", data=filtered_procs)\n",
    "\n",
    "g.set_title('Multiprocess Graph Coloring')\n",
    "\n",
    "if save_graphs:\n",
    "    plt.savefig('multiprocess-graph-coloring.pdf', bbox_inches='tight')"
   ]
  },
  {
   "cell_type": "markdown",
   "id": "db3da4a0",
   "metadata": {},
   "source": [
    " Now, we proceed to graph the number of conflicts per CPU. They are inversely proportional to the solution quality. Note the y-axis is logarithmic."
   ]
  },
  {
   "cell_type": "code",
   "execution_count": 15,
   "id": "0029c64d",
   "metadata": {},
   "outputs": [
    {
     "data": {
      "image/png": "[encoded data removed]",
      "text/plain": [
       "<Figure size 432x288 with 1 Axes>"
      ]
     },
     "metadata": {
      "needs_background": "light"
     },
     "output_type": "display_data"
    }
   ],
   "source": [
    "g = sns.barplot(x=\"ncpus\", y=\"conflicts per cpu\", hue=\"asynchronicity mode\", data=filtered_procs)\n",
    "\n",
    "g.set_title('Multiprocess Graph Coloring Solution Quality')\n",
    "g.set_yscale('log')\n",
    "\n",
    "if save_graphs:\n",
    "    plt.savefig('multiprocess-graph-coloring-solution-quality.pdf', bbox_inches='tight')"
   ]
  },
  {
   "cell_type": "markdown",
   "id": "67c81e95",
   "metadata": {},
   "source": [
    "## Digital evolution problem"
   ]
  },
  {
   "cell_type": "markdown",
   "id": "311b4136",
   "metadata": {},
   "source": [
    "#### This problem consists of evolving a system of digital cells. You can read more about dishtiny [here](https://dishtiny.readthedocs.io/en/latest/)."
   ]
  },
  {
   "cell_type": "markdown",
   "id": "57232ed7",
   "metadata": {},
   "source": [
    "Once again, we first only select the multithreaded data corresponding to this problem."
   ]
  },
  {
   "cell_type": "code",
   "execution_count": 16,
   "id": "b0cea77f",
   "metadata": {},
   "outputs": [],
   "source": [
    "ds_control[\"nthreads\"] = ds_control[\"nprocs\"]\n",
    "ds_control[\"nprocs\"] = 1\n",
    "\n",
    "ds_both = pd.concat([ds_thread, ds_control])\n",
    "\n",
    "filtered_threads_dish = ds_both[\n",
    "    (ds_both[\"executable\"] == \"dishtiny\") &\n",
    "    (ds_both[\"nprocs\"] == 1) &\n",
    "    (ds_both[\"ncpus\"] != 32) # we remove this because we only have control data for it\n",
    "]\n"
   ]
  },
  {
   "cell_type": "markdown",
   "id": "2921391b",
   "metadata": {},
   "source": [
    "And we graph it."
   ]
  },
  {
   "cell_type": "markdown",
   "id": "176744e5",
   "metadata": {},
   "source": [
    "f = sns.barplot(x=\"ncpus\", y=\"updates per cpu-second\", hue=\"asynchronicity mode\", data=filtered_threads_dish)\n",
    "\n",
    "f.set_title('Multithread Digital Evolution')\n",
    "\n",
    "if save_graphs:\n",
    "    plt.savefig('multithread-digital-evolution.pdf', bbox_inches='tight')"
   ]
  },
  {
   "cell_type": "markdown",
   "id": "fbe57b2b",
   "metadata": {},
   "source": [
    "Finally, we select and graph the multiprocess digital evolution data."
   ]
  },
  {
   "cell_type": "code",
   "execution_count": 17,
   "id": "731d3da8",
   "metadata": {},
   "outputs": [],
   "source": [
    "filtered_procs_dish = ds_proc[\n",
    "    (ds_proc[\"executable\"]==\"dishtiny\") &\n",
    "    (ds_proc[\"nthreads\"] == 1)\n",
    "]"
   ]
  },
  {
   "cell_type": "code",
   "execution_count": 18,
   "id": "7c27f32e",
   "metadata": {},
   "outputs": [
    {
     "data": {
      "image/png": "[encoded data removed]",
      "text/plain": [
       "<Figure size 432x288 with 1 Axes>"
      ]
     },
     "metadata": {
      "needs_background": "light"
     },
     "output_type": "display_data"
    }
   ],
   "source": [
    "g = sns.barplot(x=\"ncpus\", y=\"updates per cpu-second\", hue=\"asynchronicity mode\", data=filtered_procs_dish)\n",
    "\n",
    "g.set_title('Multiprocess Digital Evolution')\n",
    "\n",
    "if save_graphs:\n",
    "    plt.savefig('multiprocess-digital-evolution.pdf', bbox_inches='tight')"
   ]
  },
  {
   "cell_type": "markdown",
   "id": "648b66e3",
   "metadata": {},
   "source": [
    "# Computing relative performance"
   ]
  },
  {
   "cell_type": "code",
   "execution_count": 19,
   "id": "8fefe2ea",
   "metadata": {},
   "outputs": [
    {
     "data": {
      "text/plain": [
       "0.619901179206112"
      ]
     },
     "execution_count": 19,
     "metadata": {},
     "output_type": "execute_result"
    }
   ],
   "source": [
    "1.0 - ds_thread[\n",
    "    (ds_thread['asynchronicity mode'] == 4)\n",
    "    & (ds_thread['ncpus'] == 4)\n",
    "    & (ds_thread['ncpus'] == ds_thread['nthreads'])\n",
    "    & (ds_thread['executable'] == 'channel_selection')\n",
    "]['updates per cpu-second'].mean() / ds_thread[\n",
    "    (ds_thread['asynchronicity mode'] == 4)\n",
    "    & (ds_thread['ncpus'] == 1)\n",
    "    & (ds_thread['ncpus'] == ds_thread['nthreads'])\n",
    "    & (ds_thread['executable'] == 'channel_selection')\n",
    "]['updates per cpu-second'].mean()"
   ]
  },
  {
   "cell_type": "code",
   "execution_count": 20,
   "id": "f7601b08",
   "metadata": {},
   "outputs": [
    {
     "data": {
      "text/plain": [
       "0.7594104227885621"
      ]
     },
     "execution_count": 20,
     "metadata": {},
     "output_type": "execute_result"
    }
   ],
   "source": [
    "1.0 - ds_thread[\n",
    "    (ds_thread['asynchronicity mode'] == 4)\n",
    "    & (ds_thread['ncpus'] == 64)\n",
    "    & (ds_thread['ncpus'] == ds_thread['nthreads'])\n",
    "    & (ds_thread['executable'] == 'channel_selection')\n",
    "]['updates per cpu-second'].mean() / ds_thread[\n",
    "    (ds_thread['asynchronicity mode'] == 4)\n",
    "    & (ds_thread['ncpus'] == 4)\n",
    "    & (ds_thread['ncpus'] == ds_thread['nthreads'])\n",
    "    & (ds_thread['executable'] == 'channel_selection')\n",
    "]['updates per cpu-second'].mean()"
   ]
  },
  {
   "cell_type": "code",
   "execution_count": 21,
   "id": "cf491cea",
   "metadata": {},
   "outputs": [
    {
     "data": {
      "text/plain": [
       "0.6086586294338927"
      ]
     },
     "execution_count": 21,
     "metadata": {},
     "output_type": "execute_result"
    }
   ],
   "source": [
    "ds_control[\n",
    "    (ds_control['asynchronicity mode'] == 4)\n",
    "    & (ds_control['nthreads'] == 64)\n",
    "    & (ds_control['executable'] == 'dishtiny')\n",
    "]['updates per cpu-second'].mean() / ds_control[\n",
    "    (ds_control['asynchronicity mode'] == 4)\n",
    "    & (ds_control['nthreads'] == 1)\n",
    "    & (ds_control['executable'] == 'dishtiny')\n",
    "]['updates per cpu-second'].mean()"
   ]
  },
  {
   "cell_type": "code",
   "execution_count": 22,
   "id": "b2beb3f9",
   "metadata": {},
   "outputs": [
    {
     "data": {
      "text/plain": [
       "0.42706527392510407"
      ]
     },
     "execution_count": 22,
     "metadata": {},
     "output_type": "execute_result"
    }
   ],
   "source": [
    "ds_thread[\n",
    "    (ds_thread['asynchronicity mode'] == 3)\n",
    "    & (ds_thread['ncpus'] == 64)\n",
    "    & (ds_thread['ncpus'] == ds_thread['nthreads'])\n",
    "    & (ds_thread['executable'] == 'dishtiny')\n",
    "]['updates per cpu-second'].mean() / ds_thread[\n",
    "    (ds_thread['asynchronicity mode'] == 3)\n",
    "    & (ds_thread['ncpus'] == 1)\n",
    "    & (ds_thread['ncpus'] == ds_thread['nthreads'])\n",
    "    & (ds_thread['executable'] == 'dishtiny')\n",
    "]['updates per cpu-second'].mean()"
   ]
  },
  {
   "cell_type": "code",
   "execution_count": 23,
   "id": "d9ffb91e",
   "metadata": {},
   "outputs": [
    {
     "data": {
      "text/plain": [
       "2.1382921006944446"
      ]
     },
     "execution_count": 23,
     "metadata": {},
     "output_type": "execute_result"
    }
   ],
   "source": [
    "ds_thread[\n",
    "    (ds_thread['asynchronicity mode'] == 3)\n",
    "    & (ds_thread['ncpus'] == 64)\n",
    "    & (ds_thread['ncpus'] == ds_thread['nthreads'])\n",
    "    & (ds_thread['executable'] == 'dishtiny')\n",
    "]['updates per cpu-second'].mean() / ds_thread[\n",
    "    (ds_thread['asynchronicity mode'] == 0)\n",
    "    & (ds_thread['ncpus'] == 64)\n",
    "    & (ds_thread['ncpus'] == ds_thread['nthreads'])\n",
    "    & (ds_thread['executable'] == 'dishtiny')\n",
    "]['updates per cpu-second'].mean()"
   ]
  },
  {
   "cell_type": "code",
   "execution_count": 24,
   "id": "90885e6a",
   "metadata": {},
   "outputs": [
    {
     "data": {
      "text/plain": [
       "0.6354435411985522"
      ]
     },
     "execution_count": 24,
     "metadata": {},
     "output_type": "execute_result"
    }
   ],
   "source": [
    "ds_proc[\n",
    "    (ds_proc['asynchronicity mode'] == 3)\n",
    "    & (ds_proc['ncpus'] == 64)\n",
    "    & (ds_proc['executable'] == 'channel_selection')\n",
    "]['updates per cpu-second'].mean() / ds_proc[\n",
    "    (ds_proc['asynchronicity mode'] == 3)\n",
    "    & (ds_proc['ncpus'] == 1)\n",
    "    & (ds_proc['executable'] == 'channel_selection')\n",
    "]['updates per cpu-second'].mean()"
   ]
  },
  {
   "cell_type": "code",
   "execution_count": 25,
   "id": "0e137f71",
   "metadata": {},
   "outputs": [
    {
     "data": {
      "text/plain": [
       "7.790603762180886"
      ]
     },
     "execution_count": 25,
     "metadata": {},
     "output_type": "execute_result"
    }
   ],
   "source": [
    "ds_proc[\n",
    "    (ds_proc['asynchronicity mode'] == 3)\n",
    "    & (ds_proc['ncpus'] == 64)\n",
    "    & (ds_proc['executable'] == 'channel_selection')\n",
    "]['updates per cpu-second'].mean() / ds_proc[\n",
    "    (ds_proc['asynchronicity mode'] == 0)\n",
    "    & (ds_proc['ncpus'] == 64)\n",
    "    & (ds_proc['executable'] == 'channel_selection')\n",
    "]['updates per cpu-second'].mean()"
   ]
  },
  {
   "cell_type": "code",
   "execution_count": 26,
   "id": "fed6e962",
   "metadata": {},
   "outputs": [
    {
     "data": {
      "text/plain": [
       "0.9204986770228747"
      ]
     },
     "execution_count": 26,
     "metadata": {},
     "output_type": "execute_result"
    }
   ],
   "source": [
    "ds_proc[\n",
    "    (ds_proc['asynchronicity mode'] == 3)\n",
    "    & (ds_proc['ncpus'] == 64)\n",
    "    & (ds_proc['executable'] == 'dishtiny')\n",
    "]['updates per cpu-second'].mean() / ds_proc[\n",
    "    (ds_proc['asynchronicity mode'] == 3)\n",
    "    & (ds_proc['ncpus'] == 1)\n",
    "    & (ds_proc['executable'] == 'dishtiny')\n",
    "]['updates per cpu-second'].mean()"
   ]
  },
  {
   "cell_type": "code",
   "execution_count": 27,
   "id": "5f57a599",
   "metadata": {},
   "outputs": [
    {
     "data": {
      "text/plain": [
       "2.0723602036894695"
      ]
     },
     "execution_count": 27,
     "metadata": {},
     "output_type": "execute_result"
    }
   ],
   "source": [
    "ds_proc[\n",
    "    (ds_proc['asynchronicity mode'] == 3)\n",
    "    & (ds_proc['ncpus'] == 64)\n",
    "    & (ds_proc['executable'] == 'dishtiny')\n",
    "]['updates per cpu-second'].mean() / ds_proc[\n",
    "    (ds_proc['asynchronicity mode'] == 0)\n",
    "    & (ds_proc['ncpus'] == 64)\n",
    "    & (ds_proc['executable'] == 'dishtiny')\n",
    "]['updates per cpu-second'].mean()"
   ]
  }
 ],
 "metadata": {
  "kernelspec": {
   "display_name": "Python 3",
   "language": "python",
   "name": "python3"
  },
  "language_info": {
   "codemirror_mode": {
    "name": "ipython",
    "version": 3
   },
   "file_extension": ".py",
   "mimetype": "text/x-python",
   "name": "python",
   "nbconvert_exporter": "python",
   "pygments_lexer": "ipython3",
   "version": "3.6.5"
  }
 },
 "nbformat": 4,
 "nbformat_minor": 5
}
