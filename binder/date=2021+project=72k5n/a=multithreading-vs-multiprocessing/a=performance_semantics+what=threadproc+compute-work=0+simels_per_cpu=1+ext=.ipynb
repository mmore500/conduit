{
 "cells": [
  {
   "cell_type": "code",
   "execution_count": null,
   "metadata": {},
   "outputs": [],
   "source": [
    "import itertools as it\n",
    "from iterdub import iterdub as ib\n",
    "from iterpop import iterpop as ip\n",
    "from keyname import keyname as kn\n",
    "from matplotlib import pyplot as plt\n",
    "import matplotlib\n",
    "from nbmetalog import nbmetalog as nbm\n",
    "import numpy as np\n",
    "import pandas as pd\n",
    "import patchworklib as pw\n",
    "import pathlib\n",
    "import random\n",
    "from scipy import stats\n",
    "import seaborn as sns\n",
    "from slugify import slugify\n",
    "import statsmodels.api as sm\n",
    "import statsmodels.formula.api as smf\n",
    "from teeplot import teeplot as tp\n",
    "from tqdm import tqdm\n"
   ]
  },
  {
   "cell_type": "code",
   "execution_count": null,
   "metadata": {},
   "outputs": [],
   "source": [
    "np.random.seed(1)\n",
    "random.seed(1)\n"
   ]
  },
  {
   "cell_type": "code",
   "execution_count": null,
   "metadata": {},
   "outputs": [],
   "source": [
    "from conduitpylib.viz import _get_defaults as cfg\n",
    "from conduitpylib.viz import (\n",
    "    get_notomoji_font_path,\n",
    "    performance_semantics_scatterplot,\n",
    "    performance_semantics_facetplot,\n",
    ")\n",
    "from conduitpylib.wrangle import retrieve_and_prepare_delta_dataframes\n"
   ]
  },
  {
   "cell_type": "code",
   "execution_count": null,
   "metadata": {},
   "outputs": [],
   "source": [
    "nbm.print_metadata()\n"
   ]
  },
  {
   "cell_type": "markdown",
   "metadata": {},
   "source": [
    "# Get Data\n"
   ]
  },
  {
   "cell_type": "code",
   "execution_count": null,
   "metadata": {},
   "outputs": [],
   "source": [
    "def apply(df: pd.DataFrame) -> pd.DataFrame:\n",
    "    row_distiller = lambda row: {\n",
    "        k: v for k, v in row.items() if k in (\"Num Threads\", \"Num Processes\")\n",
    "    }\n",
    "    df[\"Concurrency\"] = df.apply(\n",
    "        lambda row: {\n",
    "            frozenset(\n",
    "                {\"Num Threads\": 1, \"Num Processes\": 2}.items()\n",
    "            ): \"Multiprocessing\",\n",
    "            frozenset(\n",
    "                {\"Num Threads\": 2, \"Num Processes\": 1}.items()\n",
    "            ): \"Multithreading\",\n",
    "        }[frozenset(row_distiller(row).items())],\n",
    "        axis=1,\n",
    "    )\n",
    "    return df\n",
    "\n",
    "\n",
    "longitudinal, snapshot = retrieve_and_prepare_delta_dataframes(\n",
    "    df_inlet_url=\"https://osf.io/pe987/download\",\n",
    "    df_outlet_url=\"https://osf.io/vrxmq/download\",\n",
    "    apply=apply,\n",
    "    treatment_column=\"Concurrency\",\n",
    ")\n"
   ]
  },
  {
   "cell_type": "code",
   "execution_count": null,
   "metadata": {},
   "outputs": [],
   "source": [
    "for data in \"longitudinal\", \"snapshot\":\n",
    "    for allocation, group in eval(data).groupby(\"Concurrency\"):\n",
    "        group_df = group.reset_index()\n",
    "        tp.tee(\n",
    "            performance_semantics_scatterplot,\n",
    "            data=group_df,\n",
    "            x=\"Simstep Period Inlet (ns)\",\n",
    "            y=\"Latency Simsteps Inlet\",\n",
    "            heat=\"% Msgs Lost\",\n",
    "            legend_font_name=get_notomoji_font_path(),\n",
    "            title=\"__{}__\".format(\n",
    "                {\n",
    "                    \"Multithreading\": \"\ud83e\udea1\",\n",
    "                    \"Multiprocessing\": \"\u2699\ufe0f\",\n",
    "                }[allocation]\n",
    "            ),\n",
    "            batch_kwargs={\n",
    "                \"batch_size\": 10,\n",
    "                \"progress_apply\": tqdm,\n",
    "            },\n",
    "            bunching_smear_alpha=0.2,\n",
    "            scatter_kwargs={\n",
    "                \"alpha\": 0.4,\n",
    "            },\n",
    "            teeplot_outattrs={\n",
    "                \"allocation\": slugify(allocation),\n",
    "                \"data\": slugify(data),\n",
    "            },\n",
    "        )\n",
    "        plt.show()\n"
   ]
  },
  {
   "cell_type": "code",
   "execution_count": null,
   "metadata": {},
   "outputs": [],
   "source": [
    "for data in \"longitudinal\", \"snapshot\":\n",
    "    plt.clf()\n",
    "    group_df = group.reset_index()\n",
    "    with pw.patched_axisgrid():\n",
    "        facetplot = tp.tee(\n",
    "            performance_semantics_facetplot,\n",
    "            data=eval(data),\n",
    "            x=\"Simstep Period Inlet (ns)\",\n",
    "            y=\"Latency Simsteps Inlet\",\n",
    "            hue=\"Concurrency\",\n",
    "            hue_order=[\"Multithreading\", \"Multiprocessing\"],\n",
    "            legend_font_name=get_notomoji_font_path(),\n",
    "            title=\"\ud83e\udea1/\u2699\ufe0f\",\n",
    "            teeplot_outattrs={\n",
    "                \"data\": slugify(data),\n",
    "            },\n",
    "        )\n",
    "        display(facetplot)\n",
    "        plt.show()\n"
   ]
  }
 ],
 "metadata": {
  "kernelspec": {
   "display_name": "Python 3",
   "language": "python",
   "name": "python3"
  },
  "language_info": {
   "codemirror_mode": {
    "name": "ipython",
    "version": 3
   },
   "file_extension": ".py",
   "mimetype": "text/x-python",
   "name": "python",
   "nbconvert_exporter": "python",
   "pygments_lexer": "ipython3",
   "version": "3.8.18"
  }
 },
 "nbformat": 4,
 "nbformat_minor": 5
}
