{
 "cells": [
  {
   "cell_type": "code",
   "execution_count": null,
   "metadata": {},
   "outputs": [],
   "source": [
    "import itertools as it\n",
    "from iterdub import iterdub as ib\n",
    "from iterpop import iterpop as ip\n",
    "from keyname import keyname as kn\n",
    "from matplotlib import pyplot as plt\n",
    "import matplotlib\n",
    "from nbmetalog import nbmetalog as nbm\n",
    "import numpy as np\n",
    "import pandas as pd\n",
    "import patchworklib as pw\n",
    "import pathlib\n",
    "import random\n",
    "from scipy import stats\n",
    "import seaborn as sns\n",
    "from slugify import slugify\n",
    "import statsmodels.api as sm\n",
    "import statsmodels.formula.api as smf\n",
    "from teeplot import teeplot as tp\n"
   ]
  },
  {
   "cell_type": "code",
   "execution_count": null,
   "metadata": {},
   "outputs": [],
   "source": [
    "np.random.seed(1)\n",
    "random.seed(1)\n"
   ]
  },
  {
   "cell_type": "code",
   "execution_count": null,
   "metadata": {},
   "outputs": [],
   "source": [
    "from conduitpylib.viz import _get_defaults as cfg\n",
    "\n",
    "from conduitpylib.viz import (\n",
    "    get_notomoji_font_path,\n",
    "    performance_semantics_scatterplot,\n",
    "    performance_semantics_facetplot,\n",
    ")\n",
    "\n",
    "from conduitpylib.wrangle import retrieve_and_prepare_delta_dataframes\n"
   ]
  },
  {
   "cell_type": "code",
   "execution_count": null,
   "metadata": {},
   "outputs": [],
   "source": [
    "nbm.print_metadata()\n"
   ]
  },
  {
   "cell_type": "markdown",
   "metadata": {},
   "source": [
    "# Get Data\n"
   ]
  },
  {
   "cell_type": "code",
   "execution_count": null,
   "metadata": {},
   "outputs": [],
   "source": [
    "longitudinal, snapshot = retrieve_and_prepare_delta_dataframes(\n",
    "    df_inlet_url=\"https://osf.io/jgpnv/download\",\n",
    "    df_outlet_url=\"https://osf.io/ncdfq/download\",\n",
    "    treatment_column=\"Allocation\",\n",
    ")\n"
   ]
  },
  {
   "cell_type": "code",
   "execution_count": null,
   "metadata": {},
   "outputs": [],
   "source": [
    "for data in \"longitudinal\", \"snapshot\":\n",
    "    for allocation, group in eval(data).groupby(\"Allocation\"):\n",
    "        group_df = group.reset_index()\n",
    "        tp.tee(\n",
    "            performance_semantics_scatterplot,\n",
    "            data=group_df,\n",
    "            x=\"Simstep Period Inlet (ns)\",\n",
    "            y=\"Latency Simsteps Inlet\",\n",
    "            legend_font_name=get_notomoji_font_path(),\n",
    "            title=\"__{}__\".format(\n",
    "                {\n",
    "                    \"With lac-417\": \"\ud83e\udd15\",\n",
    "                    \"Sans lac-417\": \"\ud83d\ude42\",\n",
    "                }[allocation]\n",
    "            ),\n",
    "            teeplot_outattrs={\n",
    "                \"allocation\": slugify(allocation),\n",
    "                \"data\": slugify(data),\n",
    "            },\n",
    "        )\n",
    "        plt.show()\n"
   ]
  },
  {
   "cell_type": "code",
   "execution_count": null,
   "metadata": {},
   "outputs": [],
   "source": [
    "for data in \"longitudinal\", \"snapshot\":\n",
    "    plt.clf()\n",
    "    group_df = group.reset_index()\n",
    "    with pw.patched_axisgrid():\n",
    "        facetplot = tp.tee(\n",
    "            performance_semantics_facetplot,\n",
    "            data=eval(data).map(\n",
    "                {\n",
    "                    \"With lac-417\": \"Incl. lac-417\",\n",
    "                    \"Sans lac-417\": \"Excl. lac-417\",\n",
    "                },\n",
    "            ),\n",
    "            x=\"Simstep Period Inlet (ns)\",\n",
    "            y=\"Latency Simsteps Inlet\",\n",
    "            hue=\"Allocation\",\n",
    "            legend_font_name=get_notomoji_font_path(),\n",
    "            title=\"\ud83d\ude42/\ud83e\udd15\",\n",
    "            teeplot_outattrs={\n",
    "                \"allocation\": slugify(allocation),\n",
    "                \"data\": slugify(data),\n",
    "            },\n",
    "        )\n",
    "        display(facetplot)\n",
    "        plt.show()\n"
   ]
  }
 ],
 "metadata": {
  "kernelspec": {
   "display_name": "Python 3",
   "language": "python",
   "name": "python3"
  },
  "language_info": {
   "codemirror_mode": {
    "name": "ipython",
    "version": 3
   },
   "file_extension": ".py",
   "mimetype": "text/x-python",
   "name": "python",
   "nbconvert_exporter": "python",
   "pygments_lexer": "ipython3"
  }
 },
 "nbformat": 4,
 "nbformat_minor": 5
}
