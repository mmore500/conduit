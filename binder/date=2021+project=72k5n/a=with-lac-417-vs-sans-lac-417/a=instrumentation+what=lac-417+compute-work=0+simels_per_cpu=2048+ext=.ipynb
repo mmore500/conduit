{
 "cells": [
  {
   "cell_type": "code",
   "execution_count": null,
   "metadata": {},
   "outputs": [],
   "source": [
    "import contextlib\n",
    "import random\n",
    "\n",
    "from keyname import keyname as kn\n",
    "from matplotlib import pyplot as plt\n",
    "from nbmetalog import nbmetalog as nbm\n",
    "import numpy as np\n",
    "import pandas as pd\n",
    "import patchworklib as pw\n",
    "from scipy import stats\n",
    "import seaborn as sns\n",
    "from slugify import slugify\n",
    "from teeplot import teeplot as tp\n",
    "import itertools as it\n",
    "import matplotlib.patheffects as pe\n"
   ]
  },
  {
   "cell_type": "code",
   "execution_count": null,
   "metadata": {},
   "outputs": [],
   "source": [
    "np.random.seed(1)\n",
    "random.seed(1)\n"
   ]
  },
  {
   "cell_type": "code",
   "execution_count": null,
   "metadata": {},
   "outputs": [],
   "source": [
    "from conduitpylib.viz import (\n",
    "    runtime_indicators_concat_regplot_pairplot,\n",
    "    runtime_indicators_pairplot,\n",
    "    runtime_indicators_regplot,\n",
    ")\n",
    "from conduitpylib.wrangle import (\n",
    "    retrieve_and_prepare_delta_dataframes,\n",
    "    wrangle_instrumentation_longform,\n",
    ")\n",
    "from _rename_allocation import rename_allocation\n"
   ]
  },
  {
   "cell_type": "code",
   "execution_count": null,
   "metadata": {},
   "outputs": [],
   "source": [
    "nbm.print_metadata()\n"
   ]
  },
  {
   "cell_type": "markdown",
   "metadata": {},
   "source": [
    "# Get Data\n"
   ]
  },
  {
   "cell_type": "code",
   "execution_count": null,
   "metadata": {},
   "outputs": [],
   "source": [
    "longitudinal_df, snapshot_df = retrieve_and_prepare_delta_dataframes(\n",
    "    df_inlet_url=\"https://osf.io/jgpnv/download\",\n",
    "    df_outlet_url=\"https://osf.io/ncdfq/download\",\n",
    "    treatment_column=\"Allocation\",\n",
    ")\n"
   ]
  },
  {
   "cell_type": "markdown",
   "metadata": {},
   "source": [
    "# Compare Finalized and Rolling Measures\n"
   ]
  },
  {
   "cell_type": "code",
   "execution_count": null,
   "metadata": {},
   "outputs": [],
   "source": [
    "data = wrangle_instrumentation_longform(\n",
    "    longitudinal_df=longitudinal_df,\n",
    "    snapshot_df=snapshot_df,\n",
    ")\n",
    "\n",
    "patchwork_context = pw.patched_axisgrid\n",
    "for context in contextlib.nullcontext, patchwork_context:\n",
    "    for allocation, group in data.groupby(\"Allocation\"):\n",
    "        plt.clf()\n",
    "        with context():\n",
    "            group_df = group.reset_index()\n",
    "            regplot_facetgrid = tp.tee(\n",
    "                runtime_indicators_regplot,\n",
    "                data=rename_allocation(group_df),\n",
    "                compare=\"Instrumentation\",\n",
    "                comparison_x=\"Longitudinal\",\n",
    "                comparison_y=\"Snapshot\",\n",
    "                teeplot_outattrs={\n",
    "                    \"allocation\": slugify(allocation),\n",
    "                },\n",
    "                teeplot_save=(context is not patchwork_context),\n",
    "            )\n",
    "            pairplot_grid = tp.tee(\n",
    "                runtime_indicators_pairplot,\n",
    "                data=rename_allocation(group_df),\n",
    "                hue=\"Instrumentation\",\n",
    "                teeplot_outattrs={\n",
    "                    \"allocation\": slugify(allocation),\n",
    "                },\n",
    "                teeplot_save=(context is not patchwork_context),\n",
    "            )\n",
    "\n",
    "            if context is patchwork_context:\n",
    "                tp.tee(\n",
    "                    runtime_indicators_concat_regplot_pairplot,\n",
    "                    regplot_facetgrid,\n",
    "                    pairplot_grid,\n",
    "                    teeplot_outattrs={\n",
    "                        \"allocation\": slugify(allocation),\n",
    "                    },\n",
    "                )\n",
    "\n",
    "            plt.show()\n",
    "            plt.clf()\n"
   ]
  }
 ],
 "metadata": {
  "kernelspec": {
   "display_name": "Python 3",
   "language": "python",
   "name": "python3"
  },
  "language_info": {
   "codemirror_mode": {
    "name": "ipython",
    "version": 3
   },
   "file_extension": ".py",
   "mimetype": "text/x-python",
   "name": "python",
   "nbconvert_exporter": "python",
   "pygments_lexer": "ipython3",
   "version": "3.8.18"
  }
 },
 "nbformat": 4,
 "nbformat_minor": 5
}
