{
 "cells": [
  {
   "cell_type": "code",
   "execution_count": null,
   "metadata": {},
   "outputs": [],
   "source": [
    "import random\n",
    "\n",
    "from keyname import keyname as kn\n",
    "from matplotlib import pyplot as plt\n",
    "from nbmetalog import nbmetalog as nbm\n",
    "import numpy as np\n",
    "from slugify import slugify\n",
    "from teeplot import teeplot as tp\n",
    "from tqdm import tqdm\n"
   ]
  },
  {
   "cell_type": "code",
   "execution_count": null,
   "metadata": {},
   "outputs": [],
   "source": [
    "np.random.seed(1)\n",
    "random.seed(1)\n"
   ]
  },
  {
   "cell_type": "code",
   "execution_count": null,
   "metadata": {},
   "outputs": [],
   "source": [
    "from conduitpylib.viz import beleaguerment_facetplot, beleaguerment_regplot\n",
    "from conduitpylib.wrangle import (\n",
    "    retrieve_and_prepare_delta_dataframes,\n",
    "    wrangle_instrumentation_longform,\n",
    ")\n",
    "from _rename_allocation import rename_allocation\n"
   ]
  },
  {
   "cell_type": "code",
   "execution_count": null,
   "metadata": {},
   "outputs": [],
   "source": [
    "nbm.print_metadata()\n"
   ]
  },
  {
   "cell_type": "markdown",
   "metadata": {},
   "source": [
    "# Get Data\n"
   ]
  },
  {
   "cell_type": "code",
   "execution_count": null,
   "metadata": {},
   "outputs": [],
   "source": [
    "longitudinal_df, snapshot_df = retrieve_and_prepare_delta_dataframes(\n",
    "    df_inlet_url=\"https://osf.io/jgpnv/download\",\n",
    "    df_outlet_url=\"https://osf.io/ncdfq/download\",\n",
    "    treatment_column=\"Allocation\",\n",
    ")\n"
   ]
  },
  {
   "cell_type": "markdown",
   "metadata": {},
   "source": [
    "# Compare Finalized and Rolling Measures\n"
   ]
  },
  {
   "cell_type": "code",
   "execution_count": null,
   "metadata": {},
   "outputs": [],
   "source": [
    "data = wrangle_instrumentation_longform(\n",
    "    longitudinal_df=longitudinal_df,\n",
    "    snapshot_df=snapshot_df,\n",
    ")\n"
   ]
  },
  {
   "cell_type": "code",
   "execution_count": null,
   "metadata": {},
   "outputs": [],
   "source": [
    "for allocation, group in data.groupby(\"Allocation\"):\n",
    "    group_df = group.reset_index()\n",
    "    tp.tee(\n",
    "        beleaguerment_facetplot,\n",
    "        data=rename_allocation(group_df),\n",
    "        x=\"Messages Received Per Second\",\n",
    "        y=\"Messages Sent Per Second\",\n",
    "        hue=\"Instrumentation\",\n",
    "        rugplot_kwargs={\n",
    "            \"alpha\": 1.0,\n",
    "            \"linewidth\": 1,\n",
    "            \"batch_limit\": 5,\n",
    "            \"progress_apply\": tqdm,\n",
    "        },\n",
    "        teeplot_outattrs={\n",
    "            \"allocation\": slugify(allocation),\n",
    "        },\n",
    "    )\n",
    "    plt.show()\n"
   ]
  }
 ],
 "metadata": {
  "kernelspec": {
   "display_name": "Python 3",
   "language": "python",
   "name": "python3"
  },
  "language_info": {
   "codemirror_mode": {
    "name": "ipython",
    "version": 3
   },
   "file_extension": ".py",
   "mimetype": "text/x-python",
   "name": "python",
   "nbconvert_exporter": "python",
   "pygments_lexer": "ipython3",
   "version": "3.8.18"
  }
 },
 "nbformat": 4,
 "nbformat_minor": 5
}
