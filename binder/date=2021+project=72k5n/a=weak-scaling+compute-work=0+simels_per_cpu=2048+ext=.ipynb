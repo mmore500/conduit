{
 "cells": [
  {
   "cell_type": "code",
   "execution_count": null,
   "metadata": {},
   "outputs": [],
   "source": [
    "from keyname import keyname as kn\n",
    "from matplotlib import pyplot as plt\n",
    "from nbmetalog import nbmetalog as nbm\n",
    "import numpy as np\n",
    "import pandas as pd\n",
    "import seaborn as sns\n",
    "from teeplot import teeplot as tp"
   ]
  },
  {
   "cell_type": "code",
   "execution_count": null,
   "metadata": {},
   "outputs": [],
   "source": [
    "from conduitpylib.utils import consolidate_merge"
   ]
  },
  {
   "cell_type": "code",
   "execution_count": null,
   "metadata": {},
   "outputs": [],
   "source": [
    "nbm.print_metadata()"
   ]
  },
  {
   "cell_type": "markdown",
   "metadata": {},
   "source": [
    "# Get Data"
   ]
  },
  {
   "cell_type": "code",
   "execution_count": null,
   "metadata": {},
   "outputs": [],
   "source": [
    "df_inlet = pd.read_csv(\n",
    "    'https://osf.io/crwgh/download',\n",
    "    compression='gzip',\n",
    ").drop(\n",
    "    columns=['././@LongLink'],\n",
    ").dropna(\n",
    "    subset=['Process Instance UUID'],\n",
    ")\n",
    "nbm.print_dataframe_summary(*eval(nbm.nvp_expr(\n",
    "    'df_inlet'\n",
    ")))"
   ]
  },
  {
   "cell_type": "code",
   "execution_count": null,
   "metadata": {},
   "outputs": [],
   "source": [
    "df_outlet = pd.read_csv(\n",
    "    'https://osf.io/kecvy/download',\n",
    "    compression='gzip',\n",
    ").drop(\n",
    "    columns=['././@LongLink'],\n",
    ").dropna(\n",
    "    subset=['Process Instance UUID'],\n",
    ")\n",
    "nbm.print_dataframe_summary(*eval(nbm.nvp_expr(\n",
    "    'df_outlet'\n",
    ")))"
   ]
  },
  {
   "cell_type": "code",
   "execution_count": null,
   "metadata": {},
   "outputs": [],
   "source": [
    "df = consolidate_merge(\n",
    "    df_inlet,\n",
    "    df_outlet,\n",
    "    on=['Process Instance UUID', 'Update'],\n",
    "    suffixes=(' Inlet', ' Outlet'),\n",
    "    how='outer',\n",
    ")\n",
    "nbm.print_dataframe_synopsis(*eval(nbm.nvp_expr(\n",
    "    'df'\n",
    ")))"
   ]
  },
  {
   "cell_type": "markdown",
   "metadata": {},
   "source": [
    "# Prep Data"
   ]
  },
  {
   "cell_type": "code",
   "execution_count": null,
   "metadata": {},
   "outputs": [],
   "source": [
    "df = df.astype({\n",
    "    'Num Inlets' : 'int64',\n",
    "    'Num Outlets' : 'int64',\n",
    "    'Num Puts Attempted' : 'int64',\n",
    "    'Num Try Puts Attempted' : 'int64',\n",
    "    'Num Blocking Puts' : 'int64',\n",
    "    'Num Try Puts That Succeeded' : 'int64',\n",
    "    'Num Puts That Succeeded Eventually' : 'int64',\n",
    "    'Num Blocking Puts That Succeeded Immediately' : 'int64',\n",
    "    'Num Puts That Succeeded Immediately' : 'int64',\n",
    "    'Num Puts That Blocked' : 'int64',\n",
    "    'Num Dropped Puts' : 'int64',\n",
    "    'Num Round Trip Touches Inlet' : 'int64',\n",
    "    'Net Flux Through Duct' : 'int64',\n",
    "    'proc' : 'int64',\n",
    "    'Snapshot' : 'int64',\n",
    "    'Has Execution Blur' : 'bool',\n",
    "    'Replicate' : 'int64',\n",
    "    'Async Mode' : 'int64',\n",
    "    'Num Threads' : 'int64',\n",
    "    'Num Processes' : 'int64',\n",
    "    'SLURM_NNODES' : 'int64',\n",
    "    'SLURM_NTASKS' : 'int64',\n",
    "    'SLURM_CPUS_ON_NODE' : 'int64',\n",
    "})"
   ]
  },
  {
   "cell_type": "code",
   "execution_count": null,
   "metadata": {},
   "outputs": [],
   "source": [
    "df['Hostname'] = df.apply(\n",
    "    lambda row: kn.unpack(row['Source File Inlet'])['_hostname'],\n",
    "    axis=1,\n",
    ")"
   ]
  },
  {
   "cell_type": "code",
   "execution_count": null,
   "metadata": {},
   "outputs": [],
   "source": [
    "df['Num Nodes'] = df['SLURM_NNODES']\n",
    "df['Num Tasks'] = df['SLURM_NTASKS']\n",
    "df['Num Cpus'] = df['Num Threads'] * df['Num Processes']\n",
    "df['Allocated Tasks Per Node'] = df['Num Tasks'] // df['Num Nodes']\n",
    "df['Delivery Time Inlet'] = (df['Num Puts Attempted'] - 1) / df['Num Round Trip Touches Inlet']\n",
    "df['Delivery Time Outlet'] = (df['Num Pulls Attempted'] - 1) / df['Num Round Trip Touches Outlet']\n",
    "df['Intermittancy'] = df['Num Pulls That Were Laden Immediately'] / df[['Net Flux Through Duct', 'Num Pulls Attempted']].min(axis=1)\n",
    "df['Inlet-Seconds Elapsed'] = df['Num Inlets'] * df['Runtime Seconds Elapsed Inlet']\n",
    "df['Outlet-Seconds Elapsed'] = df['Num Outlets'] * df['Runtime Seconds Elapsed Outlet']\n",
    "df['Latency Simsteps Inlet'] = df['Delivery Time Inlet']\n",
    "df['Latency Simsteps Outlet'] = df['Delivery Time Inlet']\n",
    "df['Simstep Period Inlet'] = df['Num Puts Attempted'] / df['Inlet-Seconds Elapsed']\n",
    "df['Simstep Period Outlet'] = df['Num Pulls Attempted'] / df['Outlet-Seconds Elapsed']\n",
    "df['Latency Walltime Inlet'] = df['Latency Simsteps Inlet'] * df['Simstep Period Inlet']\n",
    "df['Latency Walltime Outlet'] = df['Latency Simsteps Outlet'] * df['Simstep Period Outlet']"
   ]
  },
  {
   "cell_type": "markdown",
   "metadata": {},
   "source": [
    "# Prep DataFrame Variants"
   ]
  },
  {
   "cell_type": "code",
   "execution_count": null,
   "metadata": {},
   "outputs": [],
   "source": [
    "# https://stackoverflow.com/a/40629420\n",
    "df_finalized_observations = df.sort_values('Update', ascending=False).drop_duplicates(['Process Instance UUID'])"
   ]
  },
  {
   "cell_type": "code",
   "execution_count": null,
   "metadata": {},
   "outputs": [],
   "source": [
    "df_blurry_snapshots = df[df['Has Execution Blur'].astype(bool)]"
   ]
  },
  {
   "cell_type": "code",
   "execution_count": null,
   "metadata": {},
   "outputs": [],
   "source": [
    "df_world_sum = df_finalized_observations.groupby([\n",
    "    'Replicate',\n",
    "    'Async Mode',\n",
    "    'Num Processes',\n",
    "    'Num Nodes',\n",
    "    'Allocated Tasks Per Node',\n",
    "],  as_index=False).sum()\n",
    "\n",
    "df_world_sum['Fraction Messages Utilized'] = df_world_sum['Num Reads That Were Fresh'] / df_world_sum['Num Try Puts Attempted']\n",
    "df_world_sum['Fraction Messages Delivered'] = df_world_sum['Num Try Puts That Succeeded'] / df_world_sum['Num Try Puts Attempted']\n",
    "df_world_sum['Delivery Failure Rate'] = 1.0 - df_world_sum['Fraction Messages Delivered']\n",
    "df_world_sum['Fraction Messages Dropped'] = df_world_sum['Delivery Failure Rate']\n",
    "df_world_sum['Fraction Try Pulls That Were Laden'] = df_world_sum['Num Try Pulls That Were Laden'] / df_world_sum['Num Try Pulls Attempted']\n",
    "df_world_sum['Round Trip Touches Per Attempted Pull'] = df_world_sum['Num Round Trip Touches Outlet'] / df_world_sum['Num Try Pulls Attempted']\n",
    "df_world_sum['Round Trip Touches Per Attempted Put'] = df_world_sum['Num Round Trip Touches Inlet'] / df_world_sum['Num Try Puts Attempted']\n",
    "df_world_sum['Num Inflight Messages'] = 2.0 / df_world_sum['Round Trip Touches Per Attempted Put'] - 1\n",
    "df_world_sum['Fraction Duct Flux Stepped Through'] = df_world_sum['Num Revisions Pulled'] / df_world_sum['Net Flux Through Duct']\n",
    "df_world_sum['Fraction Duct Flux Jumped Over'] = 1.0 - df_world_sum['Fraction Duct Flux Stepped Through']\n",
    "df_world_sum['Round Trip Touches Per Runtime Second'] = df_world_sum['Num Round Trip Touches Inlet'] / df_world_sum['Runtime Seconds Elapsed Inlet']\n",
    "df_world_sum['Latency Simsteps Inlet'] = (df_world_sum['Num Puts Attempted'] - 1) / df_world_sum['Num Round Trip Touches Inlet']\n",
    "df_world_sum['Latency Simsteps Outlet'] = (df_world_sum['Num Pulls Attempted'] - 1) / df_world_sum['Num Round Trip Touches Outlet']\n",
    "df_world_sum['Delivery Burstiness'] = df_world_sum['Num Pulls That Were Laden Immediately'] / df_world_sum[['Net Flux Through Duct', 'Num Pulls Attempted']].min(axis=1)\n",
    "df_world_sum['Intermittancy'] = df_world_sum['Delivery Burstiness']\n",
    "df_world_sum['Simstep Period Inlet (s)'] = df_world_sum['Inlet-Seconds Elapsed'] / df_world_sum['Num Puts Attempted']\n",
    "df_world_sum['Simstep Period Outlet (s)'] = df_world_sum['Outlet-Seconds Elapsed'] / df_world_sum['Num Pulls Attempted']\n",
    "df_world_sum['Latency Walltime Inlet (s)'] = df_world_sum['Latency Simsteps Inlet'] * df_world_sum['Simstep Period Inlet (s)']\n",
    "df_world_sum['Latency Walltime Outlet (s)'] = df_world_sum['Latency Simsteps Outlet'] * df_world_sum['Simstep Period Outlet (s)']"
   ]
  },
  {
   "cell_type": "code",
   "execution_count": null,
   "metadata": {},
   "outputs": [],
   "source": [
    "df_snapshot_diffs = df_blurry_snapshots.groupby(\n",
    "    [\n",
    "        'Process Instance UUID',\n",
    "        'Snapshot',\n",
    "        # subsequent items aren't meaningful to groupby\n",
    "        # but are just included so they pass through untouched\n",
    "        'Async Mode',\n",
    "        'Num Nodes',\n",
    "        'Allocated Tasks Per Node',\n",
    "        'Num Processes',\n",
    "        'Replicate',\n",
    "        'proc',\n",
    "        'Hostname',\n",
    "        'Num Inlets',\n",
    "        'Num Outlets',\n",
    "\n",
    "    ],\n",
    "    as_index=False,\n",
    ").aggregate({\n",
    "    'Num Puts Attempted' : np.ptp,\n",
    "    'Num Try Puts Attempted' : np.ptp,\n",
    "    'Num Blocking Puts'  : np.ptp,\n",
    "    'Num Try Puts That Succeeded' : np.ptp,\n",
    "    'Num Puts That Succeeded Eventually' : np.ptp,\n",
    "    'Num Blocking Puts That Succeeded Immediately' : np.ptp,\n",
    "    'Num Puts That Succeeded Immediately' : np.ptp,\n",
    "    'Num Puts That Blocked' : np.ptp,\n",
    "    'Num Dropped Puts' : np.ptp,\n",
    "    'Num Reads Performed' : np.ptp,\n",
    "    'Num Reads That Were Fresh' : np.ptp,\n",
    "    'Num Reads That Were Stale' : np.ptp,\n",
    "    'Num Revisions Pulled' : np.ptp,\n",
    "    'Num Try Pulls Attempted' : np.ptp,\n",
    "    'Num Blocking Pulls' : np.ptp,\n",
    "    'Num Blocking Pulls That Blocked' : np.ptp,\n",
    "    'Num Revisions From Try Pulls' : np.ptp,\n",
    "    'Num Revisions From Blocking Pulls' : np.ptp,\n",
    "    'Num Pulls Attempted' : np.ptp,\n",
    "    'Num Pulls That Were Laden Eventually' : np.ptp,\n",
    "    'Num Blocking Pulls That Were Laden Immediately' : np.ptp,\n",
    "    'Num Blocking Pulls That Were Laden Eventually' : np.ptp,\n",
    "    'Num Pulls That Were Laden Immediately' : np.ptp,\n",
    "    'Num Try Pulls That Were Laden' : np.ptp,\n",
    "    'Num Try Pulls That Were Unladen' : np.ptp,\n",
    "    'Net Flux Through Duct' : np.ptp,\n",
    "    'Num Round Trip Touches Inlet' : np.ptp,\n",
    "    'Num Round Trip Touches Outlet' : np.ptp,\n",
    "# why are these missing?\n",
    "#     'Row Initial Timepoint (ns) Inlet' : np.ptp,\n",
    "#     'Row Initial Timepoint (ns) Outlet' : np.ptp,\n",
    "    'Row Final Timepoint (ns) Inlet' : np.ptp,\n",
    "    'Row Final Timepoint (ns) Outlet' : np.ptp,\n",
    "})"
   ]
  },
  {
   "cell_type": "code",
   "execution_count": null,
   "metadata": {},
   "outputs": [],
   "source": [
    "df_snapshot_diffs['Fraction Messages Delivered'] = (\n",
    "    df_snapshot_diffs['Num Try Puts That Succeeded']\n",
    "    / df_snapshot_diffs['Num Try Puts Attempted']\n",
    ")\n",
    "df_snapshot_diffs['Delivery Failure Rate'] = (\n",
    "    df_snapshot_diffs['Num Try Puts That Succeeded']\n",
    "    / df_snapshot_diffs['Num Try Puts Attempted']\n",
    ")\n",
    "df_snapshot_diffs['Fraction Messages Dropped'] = df_snapshot_diffs['Delivery Failure Rate']\n",
    "df_snapshot_diffs['Fraction Try Pulls That Were Laden'] = (\n",
    "    df_snapshot_diffs['Num Try Pulls That Were Laden']\n",
    "    / df_snapshot_diffs['Num Try Pulls Attempted']\n",
    ")\n",
    "\n",
    "df_snapshot_diffs['Round Trip Touches Per Attempted Put'] = (\n",
    "    df_snapshot_diffs['Num Round Trip Touches Inlet']\n",
    ") / df_snapshot_diffs['Num Try Puts Attempted']\n",
    "\n",
    "df_snapshot_diffs['Round Trip Touches Per Attempted Pull'] = (\n",
    "    df_snapshot_diffs['Num Round Trip Touches Outlet']\n",
    ") / df_snapshot_diffs['Num Try Pulls Attempted']\n",
    "\n",
    "df_snapshot_diffs['Round Trip Touches Per Runtime Nanosecond'] = (\n",
    "    df_snapshot_diffs['Num Round Trip Touches Outlet']\n",
    ") / df_snapshot_diffs['Row Final Timepoint (ns) Outlet']\n",
    "\n",
    "df_snapshot_diffs['Latency Simsteps Inlet'] = df_snapshot_diffs['Num Puts Attempted'] / df_snapshot_diffs['Num Round Trip Touches Inlet']\n",
    "df_snapshot_diffs['Latency Simsteps Outlet'] = df_snapshot_diffs['Num Pulls Attempted'] / df_snapshot_diffs['Num Round Trip Touches Outlet']\n",
    "df_snapshot_diffs['Delivery Burstiness'] = df_snapshot_diffs['Num Pulls That Were Laden Immediately'] / df_snapshot_diffs[['Net Flux Through Duct', 'Num Pulls Attempted']].min(axis=1)\n",
    "df_snapshot_diffs['Intermittancy'] = df_snapshot_diffs['Delivery Burstiness']\n",
    "df_snapshot_diffs['Inlet-Nanoseconds Elapsed'] = df_snapshot_diffs['Num Inlets'] * df_snapshot_diffs['Row Final Timepoint (ns) Inlet']\n",
    "df_snapshot_diffs['Outlet-Nanoseconds Elapsed'] = df_snapshot_diffs['Num Outlets'] * df_snapshot_diffs['Row Final Timepoint (ns) Outlet']\n",
    "df_snapshot_diffs['Simsteps Elapsed Inlet'] = df_snapshot_diffs['Num Puts Attempted'] / df_snapshot_diffs['Num Inlets']\n",
    "df_snapshot_diffs['Simsteps Elapsed Outlet'] = df_snapshot_diffs['Num Pulls Attempted'] / df_snapshot_diffs['Num Outlets']\n",
    "df_snapshot_diffs['Simstep Period Inlet (ns)'] = df_snapshot_diffs['Inlet-Nanoseconds Elapsed'] / df_snapshot_diffs['Num Puts Attempted']\n",
    "df_snapshot_diffs['Simstep Period Outlet (ns)'] = df_snapshot_diffs['Outlet-Nanoseconds Elapsed'] / df_snapshot_diffs['Num Pulls Attempted']\n",
    "df_snapshot_diffs['Latency Walltime Inlet (ns)'] = df_snapshot_diffs['Latency Simsteps Inlet'] * df_snapshot_diffs['Simstep Period Inlet (ns)']\n",
    "df_snapshot_diffs['Latency Walltime Outlet (ns)'] = df_snapshot_diffs['Latency Simsteps Outlet'] * df_snapshot_diffs['Simstep Period Outlet (ns)']"
   ]
  },
  {
   "cell_type": "markdown",
   "metadata": {},
   "source": [
    "# End-state Data Analysis\n",
    "\n",
    "This data appears to be skewed by ragged network launch/completion."
   ]
  },
  {
   "cell_type": "code",
   "execution_count": null,
   "metadata": {},
   "outputs": [],
   "source": [
    "def facet_boxplot(*, data, facet, x, y, showfliers=False):\n",
    "    g = sns.FacetGrid(\n",
    "        data,\n",
    "        col=facet,\n",
    "        margin_titles=True,\n",
    "    )\n",
    "    g.map_dataframe(\n",
    "        sns.boxplot,\n",
    "        x,\n",
    "        y,\n",
    "        showfliers=showfliers,\n",
    "    )"
   ]
  },
  {
   "cell_type": "markdown",
   "metadata": {},
   "source": [
    "## Latency Walltime"
   ]
  },
  {
   "cell_type": "code",
   "execution_count": null,
   "metadata": {},
   "outputs": [],
   "source": [
    "tp.tee(\n",
    "    facet_boxplot,\n",
    "    data=df_world_sum,\n",
    "    facet='Allocated Tasks Per Node',\n",
    "    x='Num Processes',\n",
    "    y='Latency Walltime Inlet (s)',\n",
    "    showfliers=True,\n",
    "    teeplot_outattrs={\n",
    "        **{\n",
    "            'transform' : 'endstate_sumedbyrep',\n",
    "        },\n",
    "        **nbm.collate_outattr_metadata(),\n",
    "    },\n",
    ")"
   ]
  },
  {
   "cell_type": "code",
   "execution_count": null,
   "metadata": {},
   "outputs": [],
   "source": [
    "tp.tee(\n",
    "    facet_boxplot,\n",
    "    data=df_world_sum,\n",
    "    facet='Allocated Tasks Per Node',\n",
    "    x='Num Processes',\n",
    "    y='Latency Walltime Outlet (s)',\n",
    "    showfliers=True,\n",
    "    teeplot_outattrs={\n",
    "        **{\n",
    "            'transform' : 'endstate_sumedbyrep',\n",
    "        },\n",
    "        **nbm.collate_outattr_metadata(),\n",
    "    },\n",
    ")"
   ]
  },
  {
   "cell_type": "markdown",
   "metadata": {},
   "source": [
    "## Latency Simsteps"
   ]
  },
  {
   "cell_type": "code",
   "execution_count": null,
   "metadata": {},
   "outputs": [],
   "source": [
    "tp.tee(\n",
    "    facet_boxplot,\n",
    "    data=df_world_sum,\n",
    "    facet='Allocated Tasks Per Node',\n",
    "    x='Num Processes',\n",
    "    y='Latency Simsteps Inlet',\n",
    "    showfliers=True,\n",
    "    teeplot_outattrs={\n",
    "        **{\n",
    "            'transform' : 'endstate_sumedbyrep',\n",
    "        },\n",
    "        **nbm.collate_outattr_metadata(),\n",
    "    },\n",
    ")"
   ]
  },
  {
   "cell_type": "code",
   "execution_count": null,
   "metadata": {},
   "outputs": [],
   "source": [
    "tp.tee(\n",
    "    facet_boxplot,\n",
    "    data=df_world_sum,\n",
    "    facet='Allocated Tasks Per Node',\n",
    "    x='Num Processes',\n",
    "    y='Latency Simsteps Outlet',\n",
    "    showfliers=True,\n",
    "    teeplot_outattrs={\n",
    "        **{\n",
    "            'transform' : 'endstate_sumedbyrep',\n",
    "        },\n",
    "        **nbm.collate_outattr_metadata(),\n",
    "    },\n",
    ")"
   ]
  },
  {
   "cell_type": "markdown",
   "metadata": {},
   "source": [
    "## Delivery Failure Rate"
   ]
  },
  {
   "cell_type": "code",
   "execution_count": null,
   "metadata": {},
   "outputs": [],
   "source": [
    "tp.tee(\n",
    "    facet_boxplot,\n",
    "    data=df_world_sum,\n",
    "    facet='Allocated Tasks Per Node',\n",
    "    x='Num Processes',\n",
    "    y='Delivery Failure Rate',\n",
    "    showfliers=True,\n",
    "    teeplot_outattrs={\n",
    "        **{\n",
    "            'transform' : 'endstate_sumedbyrep',\n",
    "        },\n",
    "        **nbm.collate_outattr_metadata(),\n",
    "    },\n",
    ")"
   ]
  },
  {
   "cell_type": "markdown",
   "metadata": {},
   "source": [
    "## Delivery Burtiness"
   ]
  },
  {
   "cell_type": "code",
   "execution_count": null,
   "metadata": {},
   "outputs": [],
   "source": [
    "tp.tee(\n",
    "    facet_boxplot,\n",
    "    data=df_world_sum,\n",
    "    facet='Allocated Tasks Per Node',\n",
    "    x='Num Processes',\n",
    "    y='Delivery Burstiness',\n",
    "    showfliers=True,\n",
    "    teeplot_outattrs={\n",
    "        **{\n",
    "            'transform' : 'endstate_sumedbyrep',\n",
    "        },\n",
    "        **nbm.collate_outattr_metadata(),\n",
    "    },\n",
    ")"
   ]
  },
  {
   "cell_type": "markdown",
   "metadata": {},
   "source": [
    "## Simstep Period"
   ]
  },
  {
   "cell_type": "code",
   "execution_count": null,
   "metadata": {},
   "outputs": [],
   "source": [
    "tp.tee(\n",
    "    facet_boxplot,\n",
    "    data=df_world_sum,\n",
    "    facet='Allocated Tasks Per Node',\n",
    "    x='Num Processes',\n",
    "    y='Simstep Period Inlet (s)',\n",
    "    showfliers=True,\n",
    "    teeplot_outattrs={\n",
    "        **{\n",
    "            'transform' : 'endstate_sumedbyrep',\n",
    "        },\n",
    "        **nbm.collate_outattr_metadata(),\n",
    "    },\n",
    ")"
   ]
  },
  {
   "cell_type": "code",
   "execution_count": null,
   "metadata": {},
   "outputs": [],
   "source": [
    "tp.tee(\n",
    "    facet_boxplot,\n",
    "    data=df_world_sum,\n",
    "    facet='Allocated Tasks Per Node',\n",
    "    x='Num Processes',\n",
    "    y='Simstep Period Outlet (s)',\n",
    "    showfliers=True,\n",
    "    teeplot_outattrs={\n",
    "        **{\n",
    "            'transform' : 'endstate_sumedbyrep',\n",
    "        },\n",
    "        **nbm.collate_outattr_metadata(),\n",
    "    },\n",
    ")"
   ]
  },
  {
   "cell_type": "markdown",
   "metadata": {},
   "source": [
    "# Live Snapshot Analysis"
   ]
  },
  {
   "cell_type": "code",
   "execution_count": null,
   "metadata": {},
   "outputs": [],
   "source": [
    "def facet_boxplot(*, data, facet, x, y, showfliers=False):\n",
    "    g = sns.FacetGrid(\n",
    "        data,\n",
    "        col=facet,\n",
    "        margin_titles=True,\n",
    "    )\n",
    "    g.map_dataframe(\n",
    "        sns.boxplot,\n",
    "        x,\n",
    "        y,\n",
    "        showfliers=showfliers,\n",
    "    )"
   ]
  },
  {
   "cell_type": "markdown",
   "metadata": {},
   "source": [
    "## Latency Walltime"
   ]
  },
  {
   "cell_type": "code",
   "execution_count": null,
   "metadata": {},
   "outputs": [],
   "source": [
    "tp.tee(\n",
    "    facet_boxplot,\n",
    "    data=df_snapshot_diffs,\n",
    "    facet='Allocated Tasks Per Node',\n",
    "    x='Num Processes',\n",
    "    y='Latency Walltime Inlet (ns)',\n",
    "    showfliers=False,\n",
    "    teeplot_outattrs={\n",
    "        **{\n",
    "            'transform' : 'snapshot_diffs',\n",
    "        },\n",
    "        **nbm.collate_outattr_metadata(),\n",
    "    }\n",
    ")"
   ]
  },
  {
   "cell_type": "code",
   "execution_count": null,
   "metadata": {},
   "outputs": [],
   "source": [
    "tp.tee(\n",
    "    facet_boxplot,\n",
    "    data=df_snapshot_diffs,\n",
    "    facet='Allocated Tasks Per Node',\n",
    "    x='Num Processes',\n",
    "    y='Latency Walltime Outlet (ns)',\n",
    "    showfliers=False,\n",
    "    teeplot_outattrs={\n",
    "        **{\n",
    "            'transform' : 'snapshot_diffs',\n",
    "        },\n",
    "        **nbm.collate_outattr_metadata(),\n",
    "    }\n",
    ")"
   ]
  },
  {
   "cell_type": "markdown",
   "metadata": {},
   "source": [
    "## Latency Simsteps"
   ]
  },
  {
   "cell_type": "code",
   "execution_count": null,
   "metadata": {},
   "outputs": [],
   "source": [
    "tp.tee(\n",
    "    facet_boxplot,\n",
    "    data=df_snapshot_diffs,\n",
    "    facet='Allocated Tasks Per Node',\n",
    "    x='Num Processes',\n",
    "    y='Latency Simsteps Inlet',\n",
    "    showfliers=False,\n",
    "    teeplot_outattrs={\n",
    "        **{\n",
    "            'transform' : 'snapshot_diffs',\n",
    "        },\n",
    "        **nbm.collate_outattr_metadata(),\n",
    "    }\n",
    ")"
   ]
  },
  {
   "cell_type": "code",
   "execution_count": null,
   "metadata": {},
   "outputs": [],
   "source": [
    "tp.tee(\n",
    "    facet_boxplot,\n",
    "    data=df_snapshot_diffs,\n",
    "    facet='Allocated Tasks Per Node',\n",
    "    x='Num Processes',\n",
    "    y='Latency Simsteps Outlet',\n",
    "    showfliers=False,\n",
    "    teeplot_outattrs={\n",
    "        **{\n",
    "            'transform' : 'snapshot_diffs',\n",
    "        },\n",
    "        **nbm.collate_outattr_metadata(),\n",
    "    }\n",
    ")"
   ]
  },
  {
   "cell_type": "markdown",
   "metadata": {},
   "source": [
    "## Delivery Failure Rate"
   ]
  },
  {
   "cell_type": "code",
   "execution_count": null,
   "metadata": {},
   "outputs": [],
   "source": [
    "tp.tee(\n",
    "    facet_boxplot,\n",
    "    data=df_snapshot_diffs,\n",
    "    facet='Allocated Tasks Per Node',\n",
    "    x='Num Processes',\n",
    "    y='Delivery Failure Rate',\n",
    "    showfliers=False,\n",
    "    teeplot_outattrs={\n",
    "        **{\n",
    "            'transform' : 'snapshot_diffs',\n",
    "        },\n",
    "        **nbm.collate_outattr_metadata(),\n",
    "    }\n",
    ")"
   ]
  },
  {
   "cell_type": "markdown",
   "metadata": {},
   "source": [
    "## Delivery Burstiness"
   ]
  },
  {
   "cell_type": "code",
   "execution_count": null,
   "metadata": {},
   "outputs": [],
   "source": [
    "tp.tee(\n",
    "    facet_boxplot,\n",
    "    data=df_snapshot_diffs,\n",
    "    facet='Allocated Tasks Per Node',\n",
    "    x='Num Processes',\n",
    "    y='Delivery Burstiness',\n",
    "    showfliers=False,\n",
    "    teeplot_outattrs={\n",
    "        **{\n",
    "            'transform' : 'snapshot_diffs',\n",
    "        },\n",
    "        **nbm.collate_outattr_metadata(),\n",
    "    }\n",
    ")"
   ]
  },
  {
   "cell_type": "markdown",
   "metadata": {},
   "source": [
    "## Simstep Period"
   ]
  },
  {
   "cell_type": "code",
   "execution_count": null,
   "metadata": {},
   "outputs": [],
   "source": [
    "tp.tee(\n",
    "    facet_boxplot,\n",
    "    data=df_snapshot_diffs,\n",
    "    facet='Allocated Tasks Per Node',\n",
    "    x='Num Processes',\n",
    "    y='Simstep Period Inlet (ns)',\n",
    "    showfliers=False,\n",
    "    teeplot_outattrs={\n",
    "        **{\n",
    "            'transform' : 'snapshot_diffs',\n",
    "        },\n",
    "        **nbm.collate_outattr_metadata(),\n",
    "    }\n",
    ")"
   ]
  },
  {
   "cell_type": "code",
   "execution_count": null,
   "metadata": {},
   "outputs": [],
   "source": [
    "tp.tee(\n",
    "    facet_boxplot,\n",
    "    data=df_snapshot_diffs,\n",
    "    facet='Allocated Tasks Per Node',\n",
    "    x='Num Processes',\n",
    "    y='Simstep Period Outlet (ns)',\n",
    "    showfliers=False,\n",
    "    teeplot_outattrs={\n",
    "        **{\n",
    "            'transform' : 'snapshot_diffs',\n",
    "        },\n",
    "        **nbm.collate_outattr_metadata(),\n",
    "    }\n",
    ")"
   ]
  },
  {
   "cell_type": "code",
   "execution_count": null,
   "metadata": {},
   "outputs": [],
   "source": [
    "pd.set_option('display.max_rows', 500)\n",
    "pd.set_option('display.max_columns', 500)\n",
    "pd.set_option('display.width', 1000)\n",
    "df_snapshot_diffs[\n",
    "    (df_snapshot_diffs['Latency Simsteps Inlet'] > 100)\n",
    "]"
   ]
  }
 ],
 "metadata": {
  "kernelspec": {
   "display_name": "Python 3",
   "language": "python",
   "name": "python3"
  },
  "language_info": {
   "codemirror_mode": {
    "name": "ipython",
    "version": 3
   },
   "file_extension": ".py",
   "mimetype": "text/x-python",
   "name": "python",
   "nbconvert_exporter": "python",
   "pygments_lexer": "ipython3",
   "version": "3.8.5"
  }
 },
 "nbformat": 4,
 "nbformat_minor": 5
}
