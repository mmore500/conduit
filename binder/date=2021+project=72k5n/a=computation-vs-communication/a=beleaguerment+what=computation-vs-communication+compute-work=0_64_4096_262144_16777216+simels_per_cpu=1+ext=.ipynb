{
 "cells": [
  {
   "cell_type": "code",
   "execution_count": null,
   "metadata": {},
   "outputs": [],
   "source": [
    "import random\n",
    "\n",
    "from keyname import keyname as kn\n",
    "from matplotlib import pyplot as plt\n",
    "from nbmetalog import nbmetalog as nbm\n",
    "import numpy as np\n",
    "import pandas as pd\n",
    "from scipy import stats\n",
    "import seaborn as sns\n",
    "from slugify import slugify\n",
    "import statsmodels.api as sm\n",
    "import statsmodels.formula.api as smf\n",
    "from teeplot import teeplot as tp\n",
    "import itertools as it\n",
    "import matplotlib.patheffects as pe\n"
   ]
  },
  {
   "cell_type": "code",
   "execution_count": null,
   "metadata": {},
   "outputs": [],
   "source": [
    "np.random.seed(1)\n",
    "random.seed(1)\n"
   ]
  },
  {
   "cell_type": "code",
   "execution_count": null,
   "metadata": {},
   "outputs": [],
   "source": [
    "from conduitpylib.viz import _get_defaults as cfg\n",
    "\n",
    "from conduitpylib.viz import beleaguerment_facetplot, beleaguerment_regplot\n",
    "\n",
    "from conduitpylib.wrangle import (\n",
    "    retrieve_and_prepare_delta_dataframes,\n",
    "    wrangle_instrumentation_longform,\n",
    ")\n"
   ]
  },
  {
   "cell_type": "code",
   "execution_count": null,
   "metadata": {},
   "outputs": [],
   "source": [
    "nbm.print_metadata()\n"
   ]
  },
  {
   "cell_type": "markdown",
   "metadata": {},
   "source": [
    "# Get Data\n"
   ]
  },
  {
   "cell_type": "code",
   "execution_count": null,
   "metadata": {},
   "outputs": [],
   "source": [
    "longitudinal_df, snapshot_df = retrieve_and_prepare_delta_dataframes(\n",
    "    df_inlet_url=\"https://osf.io/k873q/download\",\n",
    "    df_outlet_url=\"https://osf.io/5bn96/download\",\n",
    "    treatment_column=\"Log Compute Work\",\n",
    ")\n"
   ]
  },
  {
   "cell_type": "markdown",
   "metadata": {},
   "source": [
    "# Compare Finalized and Rolling Measures\n"
   ]
  },
  {
   "cell_type": "code",
   "execution_count": null,
   "metadata": {},
   "outputs": [],
   "source": [
    "data = wrangle_instrumentation_longform(\n",
    "    longitudinal_df=longitudinal_df,\n",
    "    snapshot_df=snapshot_df,\n",
    ")\n",
    "\n",
    "for treatment, group in data.groupby(\"Log Compute Work\"):\n",
    "    group_df = group.reset_index()\n",
    "    tp.tee(\n",
    "        beleaguerment_facetplot,\n",
    "        data=group_df,\n",
    "        x=\"Messages Received Per Second\",\n",
    "        y=\"Messages Sent Per Second\",\n",
    "        hue=\"Instrumentation\",\n",
    "        annotation_kwargs=dict(\n",
    "            xy=(0.05, 0.95),\n",
    "        ),\n",
    "        scatter_kwargs=dict(\n",
    "            alpha=0.6,\n",
    "            s=30,\n",
    "            zorder=999,\n",
    "        ),\n",
    "        kde_kwargs=dict(\n",
    "            cut=10,\n",
    "            kde_thresh=1e-3,\n",
    "        ),\n",
    "        regline_kwargs=dict(\n",
    "            linewidth=6,\n",
    "            zorder=-9999,\n",
    "        ),\n",
    "        teeplot_outattrs={\n",
    "            \"log-compute-work\": slugify(str(treatment)),\n",
    "        },\n",
    "    )\n",
    "    plt.show()\n"
   ]
  }
 ],
 "metadata": {
  "kernelspec": {
   "display_name": "Python 3",
   "language": "python",
   "name": "python3"
  },
  "language_info": {
   "codemirror_mode": {
    "name": "ipython",
    "version": 3
   },
   "file_extension": ".py",
   "mimetype": "text/x-python",
   "name": "python",
   "nbconvert_exporter": "python",
   "pygments_lexer": "ipython3",
   "version": "3.8.18"
  }
 },
 "nbformat": 4,
 "nbformat_minor": 5
}
