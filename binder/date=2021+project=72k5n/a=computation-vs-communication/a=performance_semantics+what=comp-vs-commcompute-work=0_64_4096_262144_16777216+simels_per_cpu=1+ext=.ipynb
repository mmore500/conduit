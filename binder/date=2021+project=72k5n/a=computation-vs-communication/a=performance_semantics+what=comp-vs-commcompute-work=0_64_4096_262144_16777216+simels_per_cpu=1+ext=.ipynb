{
 "cells": [
  {
   "cell_type": "code",
   "execution_count": null,
   "metadata": {},
   "outputs": [],
   "source": [
    "import itertools as it\n",
    "from iterdub import iterdub as ib\n",
    "from iterpop import iterpop as ip\n",
    "from keyname import keyname as kn\n",
    "from matplotlib import pyplot as plt\n",
    "import matplotlib\n",
    "from nbmetalog import nbmetalog as nbm\n",
    "import numpy as np\n",
    "import pandas as pd\n",
    "import patchworklib as pw\n",
    "import pathlib\n",
    "import random\n",
    "from scipy import stats\n",
    "import seaborn as sns\n",
    "from slugify import slugify\n",
    "import statsmodels.api as sm\n",
    "import statsmodels.formula.api as smf\n",
    "from teeplot import teeplot as tp\n",
    "from tqdm import tqdm\n"
   ]
  },
  {
   "cell_type": "code",
   "execution_count": null,
   "metadata": {},
   "outputs": [],
   "source": [
    "np.random.seed(1)\n",
    "random.seed(1)\n"
   ]
  },
  {
   "cell_type": "code",
   "execution_count": null,
   "metadata": {},
   "outputs": [],
   "source": [
    "from conduitpylib.viz import _get_defaults as cfg\n",
    "from conduitpylib.viz import (\n",
    "    get_notomoji_font_path,\n",
    "    performance_semantics_scatterplot,\n",
    "    performance_semantics_facetplot,\n",
    ")\n",
    "from conduitpylib.wrangle import retrieve_and_prepare_delta_dataframes\n"
   ]
  },
  {
   "cell_type": "code",
   "execution_count": null,
   "metadata": {},
   "outputs": [],
   "source": [
    "nbm.print_metadata()\n"
   ]
  },
  {
   "cell_type": "markdown",
   "metadata": {},
   "source": [
    "# Get Data\n"
   ]
  },
  {
   "cell_type": "code",
   "execution_count": null,
   "metadata": {},
   "outputs": [],
   "source": [
    "def apply(df: pd.DataFrame) -> pd.DataFrame:\n",
    "    df = df[\n",
    "        df[\"Log Compute Work\"] <= 3\n",
    "    ].copy()\n",
    "\n",
    "    return df\n",
    "\n",
    "longitudinal, snapshot = retrieve_and_prepare_delta_dataframes(\n",
    "    df_inlet_url=\"https://osf.io/k873q/download\",\n",
    "    df_outlet_url=\"https://osf.io/5bn96/download\",\n",
    "    treatment_column=\"Log Compute Work\",\n",
    "    apply=apply,\n",
    ")\n",
    "\n",
    "longitudinal[\"Log Simstep Period Inlet (ns)\"] = np.log10(\n",
    "    longitudinal[\"Simstep Period Inlet (ns)\"]\n",
    ")\n",
    "snapshot[\"Log Simstep Period Inlet (ns)\"] = np.log10(\n",
    "    snapshot[\"Simstep Period Inlet (ns)\"]\n",
    ")\n"
   ]
  },
  {
   "cell_type": "code",
   "execution_count": null,
   "metadata": {},
   "outputs": [],
   "source": [
    "for data in \"longitudinal\", \"snapshot\":\n",
    "    for work, group in eval(data).groupby(\"Log Compute Work\"):\n",
    "        group_df = group.reset_index()\n",
    "        tp.tee(\n",
    "            performance_semantics_scatterplot,\n",
    "            data=group_df,\n",
    "            x=\"Log Simstep Period Inlet (ns)\",\n",
    "            y=\"Latency Simsteps Inlet\",\n",
    "            heat=\"% Msgs Lost\",\n",
    "            legend_font_name=get_notomoji_font_path(),\n",
    "            title=\"{}\u2716\ufe0f\ud83e\uddee\".format(work),\n",
    "            batch_kwargs={\n",
    "                \"batch_size\": 10,\n",
    "                \"progress_apply\": tqdm,\n",
    "            },\n",
    "            bunching_smear_alpha=0.2,\n",
    "            scatter_kwargs={\n",
    "                \"alpha\": 0.4,\n",
    "            },\n",
    "            teeplot_outattrs={\n",
    "                \"work\": slugify(str(work)),\n",
    "                \"data\": slugify(data),\n",
    "            },\n",
    "        )\n",
    "        plt.show()\n"
   ]
  },
  {
   "cell_type": "code",
   "execution_count": null,
   "metadata": {},
   "outputs": [],
   "source": [
    "for data in \"longitudinal\", \"snapshot\":\n",
    "    plt.clf()\n",
    "    with pw.patched_axisgrid():\n",
    "        facetplot = tp.tee(\n",
    "            performance_semantics_facetplot,\n",
    "            data=eval(data),\n",
    "            x=\"Log Simstep Period Inlet (ns)\",\n",
    "            y=\"Latency Simsteps Inlet\",\n",
    "            hue=\"Log Compute Work\",\n",
    "            legend_font_name=get_notomoji_font_path(),\n",
    "            scatter_kwargs={\n",
    "                \"x\": \"Simstep Period Inlet (ns)\",\n",
    "            },\n",
    "            sharexy=False,\n",
    "            title=\"\ud83e\uddee/\ud83d\udcec\",\n",
    "            teeplot_outattrs={\n",
    "                \"data\": slugify(data),\n",
    "            },\n",
    "        )\n",
    "        display(facetplot)\n",
    "        plt.show()\n"
   ]
  }
 ],
 "metadata": {
  "kernelspec": {
   "display_name": "Python 3",
   "language": "python",
   "name": "python3"
  },
  "language_info": {
   "codemirror_mode": {
    "name": "ipython",
    "version": 3
   },
   "file_extension": ".py",
   "mimetype": "text/x-python",
   "name": "python",
   "nbconvert_exporter": "python",
   "pygments_lexer": "ipython3"
  }
 },
 "nbformat": 4,
 "nbformat_minor": 5
}
